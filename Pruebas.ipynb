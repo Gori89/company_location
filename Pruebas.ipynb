{
 "cells": [
  {
   "cell_type": "code",
   "execution_count": 101,
   "metadata": {},
   "outputs": [],
   "source": [
    "from pymongo import MongoClient\n",
    "import pandas as pd\n"
   ]
  },
  {
   "cell_type": "code",
   "execution_count": 102,
   "metadata": {},
   "outputs": [],
   "source": [
    "import tools.mongo as mongo"
   ]
  },
  {
   "cell_type": "code",
   "execution_count": 103,
   "metadata": {},
   "outputs": [],
   "source": [
    "df_companies=mongo.getCompanies(mongo.localConection())"
   ]
  },
  {
   "cell_type": "code",
   "execution_count": 104,
   "metadata": {},
   "outputs": [],
   "source": [
    "#df_companies.head()\n"
   ]
  },
  {
   "cell_type": "code",
   "execution_count": 105,
   "metadata": {},
   "outputs": [
    {
     "data": {
      "text/plain": [
       "929"
      ]
     },
     "execution_count": 105,
     "metadata": {},
     "output_type": "execute_result"
    }
   ],
   "source": [
    "sum(df_companies.deadpooled_year.value_counts().values)"
   ]
  },
  {
   "cell_type": "code",
   "execution_count": 106,
   "metadata": {},
   "outputs": [],
   "source": [
    "#df_companies[df_companies.deadpooled_year.isnull()]"
   ]
  },
  {
   "cell_type": "code",
   "execution_count": null,
   "metadata": {},
   "outputs": [],
   "source": []
  },
  {
   "cell_type": "markdown",
   "metadata": {},
   "source": [
    "## Api google places"
   ]
  },
  {
   "cell_type": "code",
   "execution_count": 211,
   "metadata": {},
   "outputs": [],
   "source": [
    "import time\n",
    "import requests\n",
    "import dotenv\n",
    "import os\n",
    "dotenv.load_dotenv()\n",
    "\n",
    "API_KEY = os.getenv(\"GOOGLE_KEY\")"
   ]
  },
  {
   "cell_type": "code",
   "execution_count": 108,
   "metadata": {},
   "outputs": [],
   "source": [
    "#url='https://maps.googleapis.com/maps/api/place/nearbysearch/json'"
   ]
  },
  {
   "cell_type": "code",
   "execution_count": 2,
   "metadata": {},
   "outputs": [],
   "source": [
    "params={\n",
    "    'key':API_KEY,\n",
    "    'location':'-33.8670522,151.1957362',\n",
    "    'radius':'1500',\n",
    "    'type':'restaurant'\n",
    "}"
   ]
  },
  {
   "cell_type": "code",
   "execution_count": 33,
   "metadata": {},
   "outputs": [],
   "source": [
    "\n",
    "url='https://maps.googleapis.com/maps/api/place/findplacefromtext/json'\n"
   ]
  },
  {
   "cell_type": "code",
   "execution_count": 34,
   "metadata": {},
   "outputs": [
    {
     "data": {
      "text/plain": [
       "{'candidates': [{'name': 'Screwdriver Bar', 'rating': 4.6}], 'status': 'OK'}"
      ]
     },
     "execution_count": 34,
     "metadata": {},
     "output_type": "execute_result"
    }
   ],
   "source": [
    "params={\n",
    "    'key':API_KEY,\n",
    "    'input':'Bar',\n",
    "    'inputtype':'textquery',\n",
    "    'fields':'name,rating',\n",
    "    'locationbias':'circle:10000@47.6918452,-122.2226413'\n",
    "}\n",
    "res = requests.get(url, params=params)\n",
    "res.json()"
   ]
  },
  {
   "cell_type": "code",
   "execution_count": 233,
   "metadata": {},
   "outputs": [],
   "source": [
    "def validNum(num):\n",
    "    try:\n",
    "        float(num)\n",
    "        return True\n",
    "    except:\n",
    "        return False\n",
    "\n",
    "\n",
    "def nearby(lat=\"\",lon=\"\",radius=\"\",googleType=\"\", name=\"\",pagetoken=\"\"):\n",
    "    '''\n",
    "    makes a call to nearbysearch of google api and return 20 places\n",
    "    '''\n",
    "    nearByURL=\"https://maps.googleapis.com/maps/api/place/nearbysearch/json\"\n",
    "    params={}\n",
    "    if pagetoken!=\"\":\n",
    "        params['pagetoken']=pagetoken\n",
    "    elif validNum(lat) and validNum(lon) and validNum(radius):\n",
    "        #Mandatory if not pagetoken\n",
    "        params['location']='{},{}'.format(lat,lon)\n",
    "        print(params['location'])\n",
    "        params['radius']=str(radius)\n",
    "        \n",
    "        #Recomended\n",
    "        if googleType!=\"\":\n",
    "            params['type']=googleType\n",
    "        #Optional\n",
    "        if name!='name':\n",
    "            params['name']=name\n",
    "        \n",
    "    params['key']=API_KEY\n",
    "    #print(params)\n",
    "    if len(params)==0:\n",
    "        raise ValueError  \n",
    "    res=requests.get(nearByURL, params=params).json()\n",
    "    #print(res)\n",
    "    return res\n",
    "\n",
    "def mapping(result):\n",
    "    info={}\n",
    "    if 'name' in result:\n",
    "        info[\"name\"]=result['name']\n",
    "    if 'geometry' in result:\n",
    "        info[\"geometry\"]=result['geometry']['location']\n",
    "    if 'rating' in result:\n",
    "        info[\"rating\"]=result['rating']\n",
    "    #print(info)\n",
    "    return info\n",
    "\n",
    "def getNearbyplaces(lat=\"\",lon=\"\",radius=\"\",googleType=\"\", name=\"\"):\n",
    "    print(\"entro\")\n",
    "    res=nearby(lat,lon,radius,googleType,name)\n",
    "    print('Recibido')\n",
    "    places=[]\n",
    "    results=res['results']\n",
    "    for i in range(len(results)):\n",
    "        places.append(mapping(results[i]))\n",
    "    while ('next_page_token' in res):\n",
    "        time.sleep(2)\n",
    "        print(\"===============\")\n",
    "        print(res[\"next_page_token\"])\n",
    "        res=nearby(pagetoken=res[\"next_page_token\"])\n",
    "        results=res['results']\n",
    "        print(res)\n",
    "        #print(\"Siguente llamada\",len(results))\n",
    "        print('next_page_token' in res)\n",
    "        for i in range(len(results)):\n",
    "            places.append(mapping(results[i]))\n",
    "        print(len(places))\n",
    "    return places\n",
    "    \n",
    "    \n",
    "\n",
    "   "
   ]
  },
  {
   "cell_type": "code",
   "execution_count": 234,
   "metadata": {},
   "outputs": [
    {
     "name": "stdout",
     "output_type": "stream",
     "text": [
      "entro\n",
      "47.6918452,-122.2226413\n",
      "Recibido\n",
      "===============\n",
      "CqQCFQEAAA1U-W6lp-8omUeI0nXwQP1vxNwl3F6iIjuzy21s2bX8KZBPm06EMAiApL3-mP3QMxe9OE2Z8qqhLTfIGSRiNSjfc6fbuRB-QLdJHbeGic7gPPntTdfTMupCXM9NF8wBfHLMrYsYiIc_wUmmcmIbVaeNo8kf0BOEsD3ZlsarWuMfsEpbsk9pRjnhclBmwDCVWClT_K63vgJisWLl3G2P8BylbeEkQAyJyX1C8d_FE48tjLEyZ2LzmM1TdtJJtnM3OhJTn-Pi9occFhBd0o3ZwCgk6tl4uxX-MIg3qKp9k2jTRDeFQGa215lT3W0ptpoSkWtWND4Yu_J67YxR9ikPpZygiaPlXMPSl3aPWp73vez05cAVG3WJUQa-if2gmw_yHhIQYInpttLvei_F3bocf6N4WBoUxbqaslt8vDJJHTdARvG-2Cb11Ig\n",
      "{'html_attributions': [], 'next_page_token': 'CsQDtQEAAN1lobBFwvh7D9EE-qlJqtsH4903q9_84M6KKdwoeSzNx6ooVwRZ7HLP9lZlYLvpR9OyhQ4LiqIl9bxrcJKqtzvN9eVG-3-MlOfCWwGyEEBGpOkpxX6-x7owRRQIUIwGo89EbwwLCRb-7ipjCH_f9hYXOwuPLaUg6bw3KSUkDdBsRO1xCcWLSrQa4jIQuiQV2Tfo6GyaDjsK4rHKuMLX93CQDtXItb5S2iT42BMC0YYD_KpSKuGdROvnj9wrBvl8Az4R0doDRwB8BTSR1_L3H0Gaox00WpzhFbnUKLs-a0wuFLX0CPo3bUCrcQRXWa6RybifqYf9fQVhJ9cHE_KDPesZEad5x-DocR9s6-NPJGLMQ4eaW0uBEW8XmGQllUcKUILdAbT_j7v4vQUNh7JHW2ih_e0RnH6l6u1dOESQz9YtpLv-Z22ijjmoBencE6hpZIuA0r8sHLHcaeb_vA2imLN0_7mo9sq3MKeYTo2GdBZrfJv9b-meHlQL32OY7TTTpzplYdbr4iQUkPLVdFimi7Y2dCMpQbFI2hQYy32cvd2RMjqsdwfFTmf03lKTd4MdfT35VLQ4Wbpmt-veWLfwb2cSEKeJyKP2-gC4cP_UmFGt7w4aFNkD-rLyYOIdxhkYR6uootEzU9Cy', 'results': [{'geometry': {'location': {'lat': 47.610704, 'lng': -122.187593}, 'viewport': {'northeast': {'lat': 47.6120476802915, 'lng': -122.1864040697085}, 'southwest': {'lat': 47.6093497197085, 'lng': -122.1891020302915}}}, 'icon': 'https://maps.gstatic.com/mapfiles/place_api/icons/lodging-71.png', 'id': '22a23c3db61f7046caf613a09f75f4fda5796262', 'name': 'Extended Stay America - Seattle - Bellevue - Downtown', 'opening_hours': {'open_now': True}, 'photos': [{'height': 1920, 'html_attributions': ['<a href=\"https://maps.google.com/maps/contrib/103847841975237321374/photos\">Extended Stay America - Seattle - Bellevue - Downtown</a>'], 'photo_reference': 'CmRaAAAAL8UsMmlA3rP4QU2KEodGZLyBy5EDqNXvR6W48oFBMl-zA4IrQHChtmYWc_5ZkgxfU11dUYeJpRUZ_LzLfoZT9--cA0sJXi39VSn5qEQfoyiumFYi3GZNJ9c30hbH-HmrEhC4gHVLW4F59rtlryjMEQSAGhS5mjBtpSMOMK5FDhyOgD5jceYL0g', 'width': 2880}], 'place_id': 'ChIJaX-u8mNskFQRkcR1R03P7JQ', 'plus_code': {'compound_code': 'JR66+7X Bellevue, Washington, United States', 'global_code': '84VVJR66+7X'}, 'rating': 3.6, 'reference': 'ChIJaX-u8mNskFQRkcR1R03P7JQ', 'scope': 'GOOGLE', 'types': ['lodging', 'point_of_interest', 'establishment'], 'user_ratings_total': 422, 'vicinity': '11400 Main Street, Bellevue'}, {'geometry': {'location': {'lat': 47.6295772, 'lng': -122.1366203}, 'viewport': {'northeast': {'lat': 47.63080488029149, 'lng': -122.1355748}, 'southwest': {'lat': 47.6281069197085, 'lng': -122.138428}}}, 'icon': 'https://maps.gstatic.com/mapfiles/place_api/icons/lodging-71.png', 'id': '61739e69850d613a90f4621325c30a16c5931f3b', 'name': 'Silver Cloud Inn - Redmond', 'opening_hours': {'open_now': True}, 'photos': [{'height': 1600, 'html_attributions': ['<a href=\"https://maps.google.com/maps/contrib/102037887713853086329/photos\">Silver Cloud Inn - Redmond</a>'], 'photo_reference': 'CmRaAAAANtcalvQUOml6Ahz3TabbH70YfvDGbcDdiHwoZDVSihhHcV-g4cj0n3eEVbLKcCKP3aVCt6HOIpHty-dfzr9mHxpMam0HZfJcLV0Woz1ZcYO0ljz1OaoPgA1qDQHL2FLdEhDFLrX-sVDWK3iBS6iaRsCjGhR-SpxrpFI2wfZSl_mXFnP8G0v9UA', 'width': 2400}], 'place_id': 'ChIJXz_tFKdtkFQRMJ8vEjVUgpY', 'plus_code': {'compound_code': 'JVH7+R9 Redmond, Washington, United States', 'global_code': '84VVJVH7+R9'}, 'rating': 4.4, 'reference': 'ChIJXz_tFKdtkFQRMJ8vEjVUgpY', 'scope': 'GOOGLE', 'types': ['lodging', 'point_of_interest', 'establishment'], 'user_ratings_total': 535, 'vicinity': '2122 152nd Avenue Northeast, Redmond'}, {'geometry': {'location': {'lat': 47.6091537, 'lng': -122.1897116}, 'viewport': {'northeast': {'lat': 47.6105042802915, 'lng': -122.1880468197085}, 'southwest': {'lat': 47.6078063197085, 'lng': -122.1907447802915}}}, 'icon': 'https://maps.gstatic.com/mapfiles/place_api/icons/lodging-71.png', 'id': 'e948799c6325ee9ffd3e7dbce8c014b21e89322a', 'name': 'Red Lion Hotel Bellevue', 'opening_hours': {'open_now': True}, 'photos': [{'height': 5792, 'html_attributions': ['<a href=\"https://maps.google.com/maps/contrib/101641524292658911927/photos\">Red Lion Hotel Bellevue</a>'], 'photo_reference': 'CmRaAAAAfpXtEjKbx2hTK-Ccgjrq4Fsn4xI_GJ5YD4k7eH5D3EaBaYuQfQ0ZE_46emc-_5GsQDrZn_Fh6O6mBEYMEzFUauxwTxe_5OcC6PWvgWs53wmEPpXX0GuiWnfrQcneHMG9EhDNzfM4R8cPYAx0IDf8OLBgGhReH5Adoqr12XG5k4oqIq1KOYhwtQ', 'width': 8688}], 'place_id': 'ChIJUYwjmWRskFQRBq8loqtndS0', 'plus_code': {'compound_code': 'JR56+M4 Bellevue, Washington, United States', 'global_code': '84VVJR56+M4'}, 'rating': 3.7, 'reference': 'ChIJUYwjmWRskFQRBq8loqtndS0', 'scope': 'GOOGLE', 'types': ['lodging', 'point_of_interest', 'establishment'], 'user_ratings_total': 1104, 'vicinity': '11211 Main Street, Bellevue'}, {'geometry': {'location': {'lat': 47.6757541, 'lng': -122.2038545}, 'viewport': {'northeast': {'lat': 47.6769863302915, 'lng': -122.2024496697085}, 'southwest': {'lat': 47.6742883697085, 'lng': -122.2051476302915}}}, 'icon': 'https://maps.gstatic.com/mapfiles/place_api/icons/lodging-71.png', 'id': '450c83d5be143d5c7bfde1dd1552ce038d2b332d', 'name': 'The Heathman Hotel Kirkland', 'opening_hours': {'open_now': True}, 'photos': [{'height': 1200, 'html_attributions': ['<a href=\"https://maps.google.com/maps/contrib/112680526124258969001/photos\">The Heathman Hotel Kirkland</a>'], 'photo_reference': 'CmRaAAAAoQxbLLwIkEvh1ogCZuUkmK5NmGY_bpj2-9A3P_XHnc4xY8DBsehdVmDRl9nls5t7d-Ctlw_xYuoTkp3DVLKKUAsOkqtCOkW0UkRZDosWWpFRgwLy6OVbxMj6iTK8LAn6EhCoW1miT1a0zzHyfaFJlHN1GhQIGzJH-PqOkHCa_4urcuDOazlAIQ', 'width': 1397}], 'place_id': 'ChIJ-4TpZt0SkFQRAMns_dm9Sa0', 'plus_code': {'compound_code': 'MQGW+8F Kirkland, Washington, United States', 'global_code': '84VVMQGW+8F'}, 'rating': 4.5, 'reference': 'ChIJ-4TpZt0SkFQRAMns_dm9Sa0', 'scope': 'GOOGLE', 'types': ['lodging', 'point_of_interest', 'establishment'], 'user_ratings_total': 701, 'vicinity': '220 Kirkland Avenue, Kirkland'}, {'geometry': {'location': {'lat': 47.6073044, 'lng': -122.1894579}, 'viewport': {'northeast': {'lat': 47.6086292802915, 'lng': -122.1880735197085}, 'southwest': {'lat': 47.6059313197085, 'lng': -122.1907714802915}}}, 'icon': 'https://maps.gstatic.com/mapfiles/place_api/icons/lodging-71.png', 'id': 'ac73f3455dc282ba9012599a9c3b146f60d34e33', 'name': 'Hilton Bellevue', 'opening_hours': {'open_now': True}, 'photos': [{'height': 3580, 'html_attributions': ['<a href=\"https://maps.google.com/maps/contrib/114167505040323935230/photos\">Hilton Bellevue</a>'], 'photo_reference': 'CmRaAAAA-YjXYtfxpQlgBJ6WXV58RvZ9jScmTGfyGFmAm48pit_23j5AYHw4EeXrWcyBYk_x-FsTdv16PGFePA7k-wqDYXIpSCGSWd8ZNOhLZXn6aUr5YCU3x3tzB9svdbk1g3zVEhAhVlbSKBaH75HVpyy5bDRzGhR7rv2hdunaX5ozX2CIwZe2HOPw_A', 'width': 5370}], 'place_id': 'ChIJ64dQMntskFQRLUp7RxHYSRA', 'plus_code': {'compound_code': 'JR46+W6 Bellevue, Washington, United States', 'global_code': '84VVJR46+W6'}, 'rating': 4.2, 'reference': 'ChIJ64dQMntskFQRLUp7RxHYSRA', 'scope': 'GOOGLE', 'types': ['lodging', 'point_of_interest', 'establishment'], 'user_ratings_total': 1556, 'vicinity': '300 112th Avenue Southeast, Bellevue'}, {'geometry': {'location': {'lat': 47.66003789999999, 'lng': -122.2846359}, 'viewport': {'northeast': {'lat': 47.6614630802915, 'lng': -122.2832476697085}, 'southwest': {'lat': 47.6587651197085, 'lng': -122.2859456302915}}}, 'icon': 'https://maps.gstatic.com/mapfiles/place_api/icons/lodging-71.png', 'id': 'd2e51062cd2b1cb6d17a88f79c4439db84e348b1', 'name': 'Talaris Conference Center', 'photos': [{'height': 3036, 'html_attributions': ['<a href=\"https://maps.google.com/maps/contrib/110896144795669140772/photos\">Sophie Schmitter</a>'], 'photo_reference': 'CmRaAAAAhsI3HTMC6W9-ddVzA2NQ5Iw90cl6jF5S4M7cyEL2ieqrK8CJ0B7LqMZ89Z3XocgVdAkU0dlkKsDBm8EodghEgPQPdhFt2N-M4qEuhfTctepezUtrSSkjZQEzvHAMwY-OEhDv1_ZhslUNDn-L-StDgtlgGhQIenLGG3t5Xiii8dzN_UjOZruYnQ', 'width': 4048}], 'place_id': 'ChIJgR9OhpwUkFQRs3E5-ns8or0', 'plus_code': {'compound_code': 'MP68+24 Seattle, Washington, United States', 'global_code': '84VVMP68+24'}, 'rating': 4.1, 'reference': 'ChIJgR9OhpwUkFQRs3E5-ns8or0', 'scope': 'GOOGLE', 'types': ['lodging', 'point_of_interest', 'establishment'], 'user_ratings_total': 234, 'vicinity': '4000 Northeast 41st Street, Seattle'}, {'geometry': {'location': {'lat': 47.70803739999999, 'lng': -122.1795358}, 'viewport': {'northeast': {'lat': 47.7093320302915, 'lng': -122.1781708197085}, 'southwest': {'lat': 47.7066340697085, 'lng': -122.1808687802915}}}, 'icon': 'https://maps.gstatic.com/mapfiles/place_api/icons/lodging-71.png', 'id': '7d93253eba8d96d738b67f3e8535af62ef66c7bf', 'name': 'Motel 6 Seattle North - Kirkland', 'opening_hours': {'open_now': True}, 'photos': [{'height': 1920, 'html_attributions': ['<a href=\"https://maps.google.com/maps/contrib/116270825756893638923/photos\">Motel 6 Seattle North - Kirkland</a>'], 'photo_reference': 'CmRaAAAACkdP-vwVQ4cS4VNFwwjixiW2yMGt48UDNeQrdQKloTn65UMGJRaZjVhWBjnrJ8y9_X-3X7Q3lkM0L9_dyEe8thcw7qdFLFohVByByuZJWaaTKOt4baxJZ1Cg7XIaEwWlEhA_QxERa81t9tqlyKTjzvZ-GhSPkiEiVm4JT8xguvcgBVOh6bGzbQ', 'width': 2880}], 'place_id': 'ChIJ5c7NrYENkFQRy27QI0AVohw', 'plus_code': {'compound_code': 'PR5C+65 Kirkland, Washington, United States', 'global_code': '84VVPR5C+65'}, 'rating': 3.3, 'reference': 'ChIJ5c7NrYENkFQRy27QI0AVohw', 'scope': 'GOOGLE', 'types': ['lodging', 'point_of_interest', 'establishment'], 'user_ratings_total': 788, 'vicinity': '12010 120th Place Northeast, Kirkland'}, {'geometry': {'location': {'lat': 47.65533509999999, 'lng': -122.3035199}, 'viewport': {'northeast': {'lat': 47.66804439999999, 'lng': -122.2876962}, 'southwest': {'lat': 47.6408308, 'lng': -122.3271218}}}, 'icon': 'https://maps.gstatic.com/mapfiles/place_api/icons/school-71.png', 'id': 'e100e1b58efcc9c33e69609dc77f308ebf299b1d', 'name': 'University of Washington', 'photos': [{'height': 3024, 'html_attributions': ['<a href=\"https://maps.google.com/maps/contrib/114191908834189486141/photos\">THAMOLPHAN PHAIROH</a>'], 'photo_reference': 'CmRaAAAATqo6TPvGXLRHKMU1Wiqr0Zt0jMzHebr9hksiPX6fcNw1rpGHkMBOlA8RGzEyumHNE3M9G1w8OR3Lk1jEZEEVP1jQRaMTx1NYTaV02B9CnjC51Zo5XSBU9ffnysslC_yxEhDS0ze_MVBVk9InXFeHNbO7GhRePTaIRgCb9gkseK9HGJqbdbXgxQ', 'width': 4032}], 'place_id': 'ChIJ6zWFnZIUkFQRoyu4AXksdGs', 'plus_code': {'compound_code': 'MM4W+4H Seattle, Washington, United States', 'global_code': '84VVMM4W+4H'}, 'rating': 4.5, 'reference': 'ChIJ6zWFnZIUkFQRoyu4AXksdGs', 'scope': 'GOOGLE', 'types': ['university', 'point_of_interest', 'establishment'], 'user_ratings_total': 898, 'vicinity': 'Seattle'}, {'geometry': {'location': {'lat': 47.7058621, 'lng': -122.3259064}, 'viewport': {'northeast': {'lat': 47.71118515, 'lng': -122.32085555}, 'southwest': {'lat': 47.70059414999999, 'lng': -122.33090735}}}, 'icon': 'https://maps.gstatic.com/mapfiles/place_api/icons/shopping-71.png', 'id': 'c76d5960f706c7f0a819088f2f341072372cfb71', 'name': 'Northgate Mall', 'opening_hours': {'open_now': True}, 'photos': [{'height': 669, 'html_attributions': ['<a href=\"https://maps.google.com/maps/contrib/100016254603538537588/photos\">Northgate Mall</a>'], 'photo_reference': 'CmRaAAAAlf-AFXD9Rtx3Vvxp8Y6muM0GYBTTLXxn_Rx8dEYEsDLLv26BJ1sjxR3Xbpfd1RaRPq2OCEltpwylTPF5TeTg-wOlNd2v6zUexP0BMferfqqXtyRmNJG4tGuDczqxYKyxEhDwRriaeZM10TC_jvjea-SRGhRJx_ylZx4Lw2FlgKKWwKVEPwkabg', 'width': 1000}], 'place_id': 'ChIJn7o7cFYRkFQR2aZK1iTplW4', 'plus_code': {'compound_code': 'PM4F+8J Seattle, Washington, United States', 'global_code': '84VVPM4F+8J'}, 'rating': 4, 'reference': 'ChIJn7o7cFYRkFQR2aZK1iTplW4', 'scope': 'GOOGLE', 'types': ['shopping_mall', 'point_of_interest', 'establishment'], 'user_ratings_total': 6111, 'vicinity': '401 Northeast Northgate Way, Seattle'}, {'geometry': {'location': {'lat': 47.634799, 'lng': -122.1471151}, 'viewport': {'northeast': {'lat': 47.6360307802915, 'lng': -122.1456848697085}, 'southwest': {'lat': 47.6333328197085, 'lng': -122.1483828302915}}}, 'icon': 'https://maps.gstatic.com/mapfiles/place_api/icons/lodging-71.png', 'id': 'efb21bace839d3bfa39de323e0db23bdc93d4350', 'name': 'Fairfield Inn & Suites by Marriott Seattle Bellevue/Redmond', 'opening_hours': {'open_now': True}, 'photos': [{'height': 2250, 'html_attributions': ['<a href=\"https://maps.google.com/maps/contrib/100226988962312296865/photos\">Fairfield Inn &amp; Suites by Marriott Seattle Bellevue/Redmond</a>'], 'photo_reference': 'CmRaAAAAIOuxSklBw8tf3C3vDkO-RcnB3se0VdJM87TnowqvnCJuDv-LFY4s8XZIxv0ukqDVyIK7DyhIbsDjBcDYyT_6u7Mx2wGpnVeK_LckyRKmIG4VGbAuf2f46u8Zlqb7M6HCEhD_hozXegVQ3d2FB7NlosC4GhRvaS_GGByq-iREnCLp4DiPGX_5uQ', 'width': 4000}], 'place_id': 'ChIJ91OWtQhtkFQRUDjWH-jTF0E', 'plus_code': {'compound_code': 'JVM3+W5 Bellevue, Washington, United States', 'global_code': '84VVJVM3+W5'}, 'rating': 4.3, 'reference': 'ChIJ91OWtQhtkFQRUDjWH-jTF0E', 'scope': 'GOOGLE', 'types': ['lodging', 'point_of_interest', 'establishment'], 'user_ratings_total': 486, 'vicinity': '14595 Northeast 29th Place, Bellevue'}, {'geometry': {'location': {'lat': 47.61474809999999, 'lng': -122.2074169}, 'viewport': {'northeast': {'lat': 47.6162338302915, 'lng': -122.2059894697085}, 'southwest': {'lat': 47.6135358697085, 'lng': -122.2086874302915}}}, 'icon': 'https://maps.gstatic.com/mapfiles/place_api/icons/lodging-71.png', 'id': '874d977884be32505bcef334e41c160df9b423f1', 'name': 'La Residence Suite Hotel', 'opening_hours': {'open_now': True}, 'photos': [{'height': 448, 'html_attributions': ['<a href=\"https://maps.google.com/maps/contrib/109324010979455759903/photos\">La Residence Suite Hotel</a>'], 'photo_reference': 'CmRaAAAAgVBRJeeZVK7MIAHFtg7muyDQe_uLuvV3ofy4366BdWJ1LaphM-DWtwIot8cjcWZWxtQeL9tDmGH3J0Ul_CB1qPBRyeH2kFS_KNcPambyv_gHsHwrwRrDLn_C7bKtXBbSEhB5xHzTTgcL2Zw5qzeNIv5ZGhQ2H1vL0RRGzCjLZ-20sqQAqETpVw', 'width': 800}], 'place_id': 'ChIJ9WnjoIZskFQRitNh7EI1lbc', 'plus_code': {'compound_code': 'JQ7V+V2 Bellevue, Washington, United States', 'global_code': '84VVJQ7V+V2'}, 'rating': 4.2, 'reference': 'ChIJ9WnjoIZskFQRitNh7EI1lbc', 'scope': 'GOOGLE', 'types': ['lodging', 'point_of_interest', 'establishment'], 'user_ratings_total': 80, 'vicinity': '475 100th Avenue Northeast, Bellevue'}, {'geometry': {'location': {'lat': 47.6721508, 'lng': -122.1217965}, 'viewport': {'northeast': {'lat': 47.6734600802915, 'lng': -122.1204679697085}, 'southwest': {'lat': 47.6707621197085, 'lng': -122.1231659302915}}}, 'icon': 'https://maps.gstatic.com/mapfiles/place_api/icons/lodging-71.png', 'id': 'a622cf061241daa815376971c5cc60bd4cbebd42', 'name': 'Residence Inn by Marriott Seattle East/Redmond', 'opening_hours': {'open_now': True}, 'photos': [{'height': 810, 'html_attributions': ['<a href=\"https://maps.google.com/maps/contrib/113687217257531878843/photos\">Residence Inn by Marriott Seattle East/Redmond</a>'], 'photo_reference': 'CmRaAAAAIihmlWfPMjGTyr_JhnWFRPMTjR688RZNF-PKLqn48yGFcc8OMECALbyQ0-oTf5_JElztt6M_1oSQVV5dsKAgaj33XEo5sqQmE_V_3tVV8ZYm5At-sOdYX0Rnq2JFYn4rEhBg1nN4fVsBB-mryc6G-WjjGhRI8ovIJWtONmKJyyKa0NrDp2ipqQ', 'width': 1440}], 'place_id': 'ChIJCfEQM65ykFQREkcdDYN22Ds', 'plus_code': {'compound_code': 'MVCH+V7 Redmond, Washington, United States', 'global_code': '84VVMVCH+V7'}, 'rating': 4.4, 'reference': 'ChIJCfEQM65ykFQREkcdDYN22Ds', 'scope': 'GOOGLE', 'types': ['lodging', 'point_of_interest', 'establishment'], 'user_ratings_total': 447, 'vicinity': '7575 164th Avenue Northeast, Redmond'}, {'geometry': {'location': {'lat': 47.72995100000001, 'lng': -122.2519219}, 'viewport': {'northeast': {'lat': 47.7319578802915, 'lng': -122.2510293197085}, 'southwest': {'lat': 47.72925991970851, 'lng': -122.2537272802915}}}, 'icon': 'https://maps.gstatic.com/mapfiles/place_api/icons/school-71.png', 'id': 'b193705e2fbb1f5e61f9eb8799c9f248de35ed1a', 'name': 'Bastyr University', 'opening_hours': {'open_now': True}, 'photos': [{'height': 4032, 'html_attributions': ['<a href=\"https://maps.google.com/maps/contrib/106167154719366624922/photos\">Mindy Goodridge</a>'], 'photo_reference': 'CmRaAAAAbFmGf6E5moPyxuasuHXktLKcRVXam8D7nvZyP5JhdJjuW_SWher3NUKVT67Kf3sVPocystvu3Vdae3n9uTxuKJuP64OgIQvsmznmLYKc28wzfsW3-s3oPjiv3kA33ENWEhCkSIxWt8k366Iknd3wdyXYGhTynTMDQvFQgHDzb8RoObIoYBxWoA', 'width': 3024}], 'place_id': 'ChIJnRwFJYsRkFQROneR-ndSD9Y', 'plus_code': {'compound_code': 'PPHX+X6 Kenmore, Washington, United States', 'global_code': '84VVPPHX+X6'}, 'rating': 4.1, 'reference': 'ChIJnRwFJYsRkFQROneR-ndSD9Y', 'scope': 'GOOGLE', 'types': ['university', 'health', 'point_of_interest', 'establishment'], 'user_ratings_total': 34, 'vicinity': '14500 Juanita Drive Northeast, Kenmore'}, {'geometry': {'location': {'lat': 47.709585, 'lng': -122.17794}, 'viewport': {'northeast': {'lat': 47.71085513029149, 'lng': -122.1767558697085}, 'southwest': {'lat': 47.70815716970849, 'lng': -122.1794538302915}}}, 'icon': 'https://maps.gstatic.com/mapfiles/place_api/icons/lodging-71.png', 'id': '9a7d2d0117bd6a0be002b108451d43aef25a7a15', 'name': 'Comfort Inn', 'opening_hours': {'open_now': True}, 'photos': [{'height': 1080, 'html_attributions': ['<a href=\"https://maps.google.com/maps/contrib/111423070937901098602/photos\">Comfort Inn</a>'], 'photo_reference': 'CmRaAAAAkQauN1nnf1pdOiCzTyl4NzHGH6kkvp8Jd6oAvH4lV_VD-4TDQBlP3ewVeXGwajWmDh_caOHCpuIDupx3RDaKl_B_lqp_qjhQWGZ7sesC8Yf2FUcZm00JGZMKLiWRcvlDEhBuTSdEY48J3QOGv_60SOobGhSLUVXNQqtDHWYXzCKs7GeXGfNvTQ', 'width': 1350}], 'place_id': 'ChIJWy_We4ENkFQRZVKoKgjTgrc', 'plus_code': {'compound_code': 'PR5C+RR Kirkland, Washington, United States', 'global_code': '84VVPR5C+RR'}, 'rating': 3.6, 'reference': 'ChIJWy_We4ENkFQRZVKoKgjTgrc', 'scope': 'GOOGLE', 'types': ['lodging', 'restaurant', 'food', 'point_of_interest', 'establishment'], 'user_ratings_total': 328, 'vicinity': '12204 Northeast 124th Street, Kirkland'}, {'geometry': {'location': {'lat': 47.72980440000001, 'lng': -122.1493133}, 'viewport': {'northeast': {'lat': 47.73415860000001, 'lng': -122.14838395}, 'southwest': {'lat': 47.72835300000001, 'lng': -122.15210135}}}, 'icon': 'https://maps.gstatic.com/mapfiles/place_api/icons/generic_business-71.png', 'id': 'f49203ae4fdbc539d25015783ec557d475f0e927', 'name': 'Chateau Ste. Michelle Winery', 'opening_hours': {'open_now': True}, 'photos': [{'height': 2283, 'html_attributions': ['<a href=\"https://maps.google.com/maps/contrib/110124304184699520136/photos\">Chateau Ste. Michelle Winery</a>'], 'photo_reference': 'CmRaAAAA9_d-a6mZdwTTW87IKVubYGuSSEBUzz30DY74gamFFoDsjIcM-oqYkee4uPHJJoc_R1cUYsF-VjDjJ_Prw8VEy2OvrE5MpY5VpV4A0luz9KJnd85DDoeC1RAIpSq2S3B9EhAHu2XOGtW94OZNuWA4FA6WGhTbSGWG9ocRfCeI133g99HgP8qaWw', 'width': 3500}], 'place_id': 'ChIJeSBs_7ANkFQRtUTMZjKQB9c', 'plus_code': {'compound_code': 'PVH2+W7 Woodinville, Washington, United States', 'global_code': '84VVPVH2+W7'}, 'rating': 4.5, 'reference': 'ChIJeSBs_7ANkFQRtUTMZjKQB9c', 'scope': 'GOOGLE', 'types': ['travel_agency', 'liquor_store', 'food', 'point_of_interest', 'store', 'establishment'], 'user_ratings_total': 1748, 'vicinity': '14111 Northeast 145th Street, Woodinville'}, {'geometry': {'location': {'lat': 47.6641165, 'lng': -122.3153493}, 'viewport': {'northeast': {'lat': 47.66546503029149, 'lng': -122.3139468697085}, 'southwest': {'lat': 47.66276706970849, 'lng': -122.3166448302915}}}, 'icon': 'https://maps.gstatic.com/mapfiles/place_api/icons/lodging-71.png', 'id': '6b285cdc2c92681d1da3075c676b13b30f79e3fc', 'name': 'University Motel Suites', 'opening_hours': {'open_now': True}, 'photos': [{'height': 2448, 'html_attributions': ['<a href=\"https://maps.google.com/maps/contrib/110740181753575614279/photos\">Brendo D. C.</a>'], 'photo_reference': 'CmRaAAAAV-FMJJjIGYu7XcFPs0X7lgZ00xoJDprPy1-wFdMT2n40PpxP1yzdc5dOLT-PdHRASvj7k2R6m5x1CdGUzjF7DmAw9y0x571IEz6OaW5CMoGqnxSkT9bVxR8DEKx4LQHEEhA4HeuQwdQ7jgzlFMM20hY0GhQy5s5-YoJq1GTyo_nlFFl2t71XdA', 'width': 3264}], 'place_id': 'ChIJRw1ON2AUkFQRuNPpCJTo8KI', 'plus_code': {'compound_code': 'MM7M+JV Seattle, Washington, United States', 'global_code': '84VVMM7M+JV'}, 'rating': 4.2, 'reference': 'ChIJRw1ON2AUkFQRuNPpCJTo8KI', 'scope': 'GOOGLE', 'types': ['lodging', 'point_of_interest', 'establishment'], 'user_ratings_total': 152, 'vicinity': '4731 12th Avenue Northeast, Seattle'}, {'geometry': {'location': {'lat': 47.7028223, 'lng': -122.3250127}, 'viewport': {'northeast': {'lat': 47.7041712802915, 'lng': -122.3236057697085}, 'southwest': {'lat': 47.70147331970851, 'lng': -122.3263037302915}}}, 'icon': 'https://maps.gstatic.com/mapfiles/place_api/icons/movies-71.png', 'id': '2b69fb8f3a4dd36eb72b6d6bf508b3bb969ec07e', 'name': 'Regal Thornton Place ScreenX & IMAX', 'opening_hours': {'open_now': True}, 'photos': [{'height': 3024, 'html_attributions': ['<a href=\"https://maps.google.com/maps/contrib/105945350825046198029/photos\">Dustin Ballard</a>'], 'photo_reference': 'CmRaAAAAV8gA0kR7PrzbKNYWA2LDCHqlzhFHA_r_n_-_df35gMaq_rZizymO19GQUJFaRLyMWzL6QU9HWceiU2CKsMRBNBjwtnFYik3-s2l0VeUJQeFpfOCvvM1djtu3FLnS8Kn3EhDDP0vQLH2wK4TOZGX71UvBGhSdHXtO1q5ICpMmQd6boBdrPPT65A', 'width': 4032}], 'place_id': 'ChIJSYMDLf4TkFQRjqvEO65GgUs', 'plus_code': {'compound_code': 'PM3F+4X Seattle, Washington, United States', 'global_code': '84VVPM3F+4X'}, 'rating': 4.3, 'reference': 'ChIJSYMDLf4TkFQRjqvEO65GgUs', 'scope': 'GOOGLE', 'types': ['movie_theater', 'point_of_interest', 'establishment'], 'user_ratings_total': 2160, 'vicinity': '316 Northeast Thornton Place, Seattle'}, {'geometry': {'location': {'lat': 47.6639773, 'lng': -122.298551}, 'viewport': {'northeast': {'lat': 47.6651620302915, 'lng': -122.2971587697085}, 'southwest': {'lat': 47.6624640697085, 'lng': -122.2998567302915}}}, 'icon': 'https://maps.gstatic.com/mapfiles/place_api/icons/shopping-71.png', 'id': 'e245acc6e0e3051597f20fbc380a8e313130688e', 'name': 'Apple University Village', 'opening_hours': {'open_now': True}, 'photos': [{'height': 1944, 'html_attributions': ['<a href=\"https://maps.google.com/maps/contrib/108607125481345832731/photos\">elaine monroe</a>'], 'photo_reference': 'CmRaAAAAK17oTwS4GGlxLG48Z-1fg-ytx_CBBVF1HNNxcjXx7W_yNQVRWizJ8gWl4NMBb4SKfU_7qc15EfxtyBz8rsK6w2u4A2LOTU82Negve9IpgUm2nUqi6BXbAfM47G4HPz-JEhCc5fCpM-IwrEejlI6-byGyGhQ4lI6_ssf0LwzGd7LTtAYSr-J-rg', 'width': 2592}], 'place_id': 'ChIJFRORAoYUkFQReDCsi3wez8A', 'plus_code': {'compound_code': 'MP72+HH Seattle, Washington, United States', 'global_code': '84VVMP72+HH'}, 'price_level': 3, 'rating': 4.2, 'reference': 'ChIJFRORAoYUkFQReDCsi3wez8A', 'scope': 'GOOGLE', 'types': ['electronics_store', 'point_of_interest', 'store', 'establishment'], 'user_ratings_total': 5840, 'vicinity': '2656 Northeast University Village Street, Seattle'}, {'geometry': {'location': {'lat': 47.6696482, 'lng': -122.197314}, 'viewport': {'northeast': {'lat': 47.672085, 'lng': -122.19501735}, 'southwest': {'lat': 47.6669074, 'lng': -122.20032675}}}, 'icon': 'https://maps.gstatic.com/mapfiles/place_api/icons/generic_business-71.png', 'id': '3fd9f4e61f32e103de3a64803faa92a75b4b3d10', 'name': 'Google Building C', 'photos': [{'height': 1824, 'html_attributions': ['<a href=\"https://maps.google.com/maps/contrib/105735671248014073926/photos\">Lihui Wang</a>'], 'photo_reference': 'CmRaAAAAh-ni1VHBbjsBRkfyCC3nmUCSm9yHYKGN1R4tUFqP6gzDaYBFfLh7SQwJb5SiULVVDI_2DT5U8VEWO6oJjdnHG4uXbcUDmcIlAArGdYsHHFeRatkntEAXemWdXXPVPwaDEhA3vhdLI-dCYmMer7FQcBISGhTa_v0tZDV9WRSW57EXF4nkROnY5g', 'width': 4000}], 'place_id': 'ChIJTxax6NoSkFQRWPvFXI1LypQ', 'plus_code': {'compound_code': 'MR93+V3 Kirkland, Washington, United States', 'global_code': '84VVMR93+V3'}, 'rating': 4.6, 'reference': 'ChIJTxax6NoSkFQRWPvFXI1LypQ', 'scope': 'GOOGLE', 'types': ['point_of_interest', 'establishment'], 'user_ratings_total': 384, 'vicinity': '747 6th Street South, Kirkland'}, {'geometry': {'location': {'lat': 47.6503747, 'lng': -122.301594}, 'viewport': {'northeast': {'lat': 47.65191949999999, 'lng': -122.30021495}, 'southwest': {'lat': 47.6480391, 'lng': -122.30573115}}}, 'icon': 'https://maps.gstatic.com/mapfiles/place_api/icons/generic_business-71.png', 'id': '0f4b1d7422f6dbc8616a87fd7b6c0a0b52b686a5', 'name': 'Husky Stadium', 'photos': [{'height': 2448, 'html_attributions': ['<a href=\"https://maps.google.com/maps/contrib/118000967549663411822/photos\">Ralph Monis</a>'], 'photo_reference': 'CmRaAAAAg2FJj5IR5bZW1qbnnfvZw7cG_-Tf4t85OwKliftX7D6i99-CaWfdLbn-hjh0bgpvhrk0qgOkyE9hl52h95V21guUmKMoteoG19ViJ-Iunk7ICxyNsJV3LRVp69VzO-VqEhCnOK3K50ei1WUiF-T2WTt-GhSsqh_Do7JW4aQMrpv26BGB7NDEqQ', 'width': 3264}], 'place_id': 'ChIJR4k7qZQUkFQRusu8FWxRSxg', 'plus_code': {'compound_code': 'MM2X+49 Seattle, Washington, United States', 'global_code': '84VVMM2X+49'}, 'rating': 4.7, 'reference': 'ChIJR4k7qZQUkFQRusu8FWxRSxg', 'scope': 'GOOGLE', 'types': ['stadium', 'point_of_interest', 'establishment'], 'user_ratings_total': 1931, 'vicinity': '3800 Montlake Boulevard Northeast, Seattle'}], 'status': 'OK'}\n",
      "True\n",
      "40\n"
     ]
    },
    {
     "name": "stdout",
     "output_type": "stream",
     "text": [
      "===============\n",
      "CsQDtQEAAN1lobBFwvh7D9EE-qlJqtsH4903q9_84M6KKdwoeSzNx6ooVwRZ7HLP9lZlYLvpR9OyhQ4LiqIl9bxrcJKqtzvN9eVG-3-MlOfCWwGyEEBGpOkpxX6-x7owRRQIUIwGo89EbwwLCRb-7ipjCH_f9hYXOwuPLaUg6bw3KSUkDdBsRO1xCcWLSrQa4jIQuiQV2Tfo6GyaDjsK4rHKuMLX93CQDtXItb5S2iT42BMC0YYD_KpSKuGdROvnj9wrBvl8Az4R0doDRwB8BTSR1_L3H0Gaox00WpzhFbnUKLs-a0wuFLX0CPo3bUCrcQRXWa6RybifqYf9fQVhJ9cHE_KDPesZEad5x-DocR9s6-NPJGLMQ4eaW0uBEW8XmGQllUcKUILdAbT_j7v4vQUNh7JHW2ih_e0RnH6l6u1dOESQz9YtpLv-Z22ijjmoBencE6hpZIuA0r8sHLHcaeb_vA2imLN0_7mo9sq3MKeYTo2GdBZrfJv9b-meHlQL32OY7TTTpzplYdbr4iQUkPLVdFimi7Y2dCMpQbFI2hQYy32cvd2RMjqsdwfFTmf03lKTd4MdfT35VLQ4Wbpmt-veWLfwb2cSEKeJyKP2-gC4cP_UmFGt7w4aFNkD-rLyYOIdxhkYR6uootEzU9Cy\n",
      "{'html_attributions': [], 'results': [{'geometry': {'location': {'lat': 47.65769209999999, 'lng': -122.1924837}, 'viewport': {'northeast': {'lat': 47.65979674999999, 'lng': -122.1843905}, 'southwest': {'lat': 47.65407335, 'lng': -122.1998117}}}, 'icon': 'https://maps.gstatic.com/mapfiles/place_api/icons/school-71.png', 'id': '977d947a2e901f9154f4c72e4f573e48275658d5', 'name': 'Northwest University', 'opening_hours': {'open_now': True}, 'photos': [{'height': 315, 'html_attributions': ['<a href=\"https://maps.google.com/maps/contrib/116333055510884237874/photos\">Northwest University</a>'], 'photo_reference': 'CmRaAAAA57dQ9dn937FyFiyf9ZjY06lNOC2Z-5mCU60wBNuHfLC43S1Mvupejm_4_FKc1FTFEYpHV5gU-F-UVxwi-hOsl9zyTMLVr0xbON6zxlEm6-aBLxpqA6Fbwoev8DHhZlMIEhBCWWd_eLky20v22KP3mluGGhQxWEMCLpDruDytJZpzJMhm2tu0qA', 'width': 851}], 'place_id': 'ChIJTbB5LSttkFQR0bdtYSpl48c', 'plus_code': {'compound_code': 'MR55+32 Kirkland, Washington, United States', 'global_code': '84VVMR55+32'}, 'rating': 4.1, 'reference': 'ChIJTbB5LSttkFQR0bdtYSpl48c', 'scope': 'GOOGLE', 'types': ['university', 'point_of_interest', 'establishment'], 'user_ratings_total': 60, 'vicinity': '5520 108th Avenue Northeast, Kirkland'}, {'geometry': {'location': {'lat': 47.67465809999999, 'lng': -122.2013886}, 'viewport': {'northeast': {'lat': 47.6759342802915, 'lng': -122.2005046697085}, 'southwest': {'lat': 47.6732363197085, 'lng': -122.2032026302915}}}, 'icon': 'https://maps.gstatic.com/mapfiles/place_api/icons/generic_business-71.png', 'id': '0f969a3f6dacbc224d193fd7a5c0c244c61cf4e0', 'name': '128 on State Apartments', 'opening_hours': {'open_now': True}, 'photos': [{'height': 1192, 'html_attributions': ['<a href=\"https://maps.google.com/maps/contrib/109410902422641171524/photos\">128 on State Apartments</a>'], 'photo_reference': 'CmRaAAAAlfJtyL8AZ2d19d-TpXGPd0bmUGD3u6BynwgqbRoNHAz68DkwKn6xPE8Knk13ae0CMvqo16uF6PbhPk9LV5zO2JTba5emvoUw22pLPhXsQnYgXoy_QTV7-vPhuDxNM3w2EhBjdhRayMpSjDZvsexPQ3XJGhQOPvhwLty4ahP8SOywjF3Vs76owg', 'width': 2120}], 'place_id': 'ChIJrz4sH90SkFQRST9LI8HdWqw', 'plus_code': {'compound_code': 'MQFX+VC Kirkland, Washington, United States', 'global_code': '84VVMQFX+VC'}, 'rating': 4.1, 'reference': 'ChIJrz4sH90SkFQRST9LI8HdWqw', 'scope': 'GOOGLE', 'types': ['point_of_interest', 'establishment'], 'user_ratings_total': 14, 'vicinity': '128 State Street, Kirkland'}, {'geometry': {'location': {'lat': 47.615551, 'lng': -122.2038024}, 'viewport': {'northeast': {'lat': 47.6197648, 'lng': -122.19700245}, 'southwest': {'lat': 47.61031679999999, 'lng': -122.20978185}}}, 'icon': 'https://maps.gstatic.com/mapfiles/place_api/icons/shopping-71.png', 'id': '66dd3b9fd290e90c934c96dad7f978cd2f048130', 'name': 'Bellevue Square', 'opening_hours': {'open_now': True}, 'photos': [{'height': 3024, 'html_attributions': ['<a href=\"https://maps.google.com/maps/contrib/106500433322997860406/photos\">Pan William</a>'], 'photo_reference': 'CmRaAAAAzLHZazxOSFStpIx39TEMcR4Yyy6MbC1tcefpuwEV9uawKCZtu_ZECzfWmus_JD-VDZY2_EP2-wAz99wra_Atfsd0t3LrXrJOIbXX2dZN0ixOQWYoO6IzeQxOFRlFXUFOEhADmM7vJAllLYWoJn6wJBf9GhTTLb96EzpDjNt_ttjIo6K6btfzCQ', 'width': 4032}], 'place_id': 'ChIJF7Wdd4ZskFQRhk02OceIcdo', 'plus_code': {'compound_code': 'JQ8W+6F Bellevue, Washington, United States', 'global_code': '84VVJQ8W+6F'}, 'rating': 4.4, 'reference': 'ChIJF7Wdd4ZskFQRhk02OceIcdo', 'scope': 'GOOGLE', 'types': ['shopping_mall', 'point_of_interest', 'establishment'], 'user_ratings_total': 10817, 'vicinity': '575 Bellevue Square, Bellevue'}, {'geometry': {'location': {'lat': 47.7678012, 'lng': -122.1863633}, 'viewport': {'northeast': {'lat': 47.7694120802915, 'lng': -122.1847896697085}, 'southwest': {'lat': 47.7667141197085, 'lng': -122.1874876302915}}}, 'icon': 'https://maps.gstatic.com/mapfiles/place_api/icons/lodging-71.png', 'id': '31e1a86238f5872a3ed0d1926b1f5ecb02d4c2c3', 'name': 'Country Inn & Suites by Radisson, Seattle-Bothell, WA', 'opening_hours': {'open_now': True}, 'photos': [{'height': 4000, 'html_attributions': ['<a href=\"https://maps.google.com/maps/contrib/104934040426253727887/photos\">Country Inn &amp; Suites by Radisson, Seattle-Bothell, WA</a>'], 'photo_reference': 'CmRaAAAAEqbeUZpc5fZPpviNogoXDGby0bqxUn1FJtTveKjE5jb_roLqTzd_VmK61c2TWBM0xBr_AallgUNBwkY3XzGza0wVKFK1UBIBPLgfk5ANBcYcde6Zq5PtSt011eFlDG0lEhCxFC3A7FHcH0sMIzet75JUGhTMY9lvm6G4QIJX_B9B8pf-Sv6Bxw', 'width': 6000}], 'place_id': 'ChIJW45SzWEOkFQRyBh1UZGsIqU', 'plus_code': {'compound_code': 'QR97+4F Bothell, Washington, United States', 'global_code': '84VVQR97+4F'}, 'rating': 4.2, 'reference': 'ChIJW45SzWEOkFQRyBh1UZGsIqU', 'scope': 'GOOGLE', 'types': ['lodging', 'point_of_interest', 'establishment'], 'user_ratings_total': 357, 'vicinity': '19333 North Creek Parkway, Bothell'}, {'geometry': {'location': {'lat': 47.66839600000001, 'lng': -122.105228}, 'viewport': {'northeast': {'lat': 47.66979978029151, 'lng': -122.1038114197085}, 'southwest': {'lat': 47.66710181970851, 'lng': -122.1065093802915}}}, 'icon': 'https://maps.gstatic.com/mapfiles/place_api/icons/lodging-71.png', 'id': 'ec4c0d433adb709afc31f8b6e55f0c0d23782f87', 'name': 'Redmond Inn', 'photos': [{'height': 2160, 'html_attributions': ['<a href=\"https://maps.google.com/maps/contrib/103172196803540370619/photos\">Abhinav Gupta</a>'], 'photo_reference': 'CmRaAAAAO0fwlvj8ZvInppjjDWLGDp2xaqW05lqxbQnST0_3cVh4Nln8dgDbNGgAXADVT7gHhiAAiXbN4Za-_ZC2g1GvyqsiKi_03nJBr3_bMux6Sb1JQB0JZ1LmKaprID1R4R6lEhDuv0WtQL5TKfauskQ4fbM2GhTgUErquTZkR2a8DdBquoDsb7f5Hw', 'width': 3840}], 'place_id': 'ChIJU2MEyb5ykFQR5IwqGTGnhI0', 'plus_code': {'compound_code': 'MV9V+9W Redmond, Washington, United States', 'global_code': '84VVMV9V+9W'}, 'rating': 4, 'reference': 'ChIJU2MEyb5ykFQR5IwqGTGnhI0', 'scope': 'GOOGLE', 'types': ['lodging', 'point_of_interest', 'establishment'], 'user_ratings_total': 598, 'vicinity': '17601 Redmond Way, Redmond'}, {'geometry': {'location': {'lat': 47.6337467, 'lng': -122.1466561}, 'viewport': {'northeast': {'lat': 47.63518983029151, 'lng': -122.1450183697085}, 'southwest': {'lat': 47.63249186970851, 'lng': -122.1477163302915}}}, 'icon': 'https://maps.gstatic.com/mapfiles/place_api/icons/lodging-71.png', 'id': '7976815d03246f9f25529908b0a430fb14ad43e6', 'name': 'Residence Inn by Marriott Seattle Bellevue', 'opening_hours': {'open_now': True}, 'photos': [{'height': 3744, 'html_attributions': ['<a href=\"https://maps.google.com/maps/contrib/110967543604493168037/photos\">Residence Inn by Marriott Seattle Bellevue</a>'], 'photo_reference': 'CmRaAAAA9mw8MIG85PiFCYhJL9LsXoo8az_UTzIiRMCEbM6Fow2dfOTZYCNaBJbs2aak7oaMNNtLYA7s09msK3tRQHquNLUN-ACHQ-2js7zfSXS09cFNa4Zb8-bUY2PZH9G5amVhEhCxC6DV5KSgqZAfFCqk9q4JGhRWiO40SMYzxt_-RFmzl9u9wleLKQ', 'width': 5616}], 'place_id': 'ChIJ27I1rwhtkFQRmJIzL0b7NU4', 'plus_code': {'compound_code': 'JVM3+F8 Bellevue, Washington, United States', 'global_code': '84VVJVM3+F8'}, 'rating': 4.3, 'reference': 'ChIJ27I1rwhtkFQRmJIzL0b7NU4', 'scope': 'GOOGLE', 'types': ['lodging', 'point_of_interest', 'establishment'], 'user_ratings_total': 395, 'vicinity': '14455 Northeast 29th Place, Bellevue'}, {'geometry': {'location': {'lat': 47.67529009999999, 'lng': -122.3161096}, 'viewport': {'northeast': {'lat': 47.6765091802915, 'lng': -122.3149682697085}, 'southwest': {'lat': 47.6738112197085, 'lng': -122.3176662302915}}}, 'icon': 'https://maps.gstatic.com/mapfiles/place_api/icons/shopping-71.png', 'id': 'a54e4043a7062aabf6f524adb094d8b71abdb590', 'name': 'Whole Foods Market', 'opening_hours': {'open_now': True}, 'photos': [{'height': 2448, 'html_attributions': ['<a href=\"https://maps.google.com/maps/contrib/100784747871370499046/photos\">Arunprasaath Selvadhurai</a>'], 'photo_reference': 'CmRaAAAAb6Mr-lwmOCF9Kzvg3vrY7qFrVCWo94rmp5CjMBSLIDcpyC5eKt0-2OMgu7I6y6DRbLs7lPlwcNyTmnlmhyoGg1a4pkNjTZKVON2rNMIODuAJCo_FXwUAkzkMvHDmzykrEhC8kqr_WarhDLMWdcCPDgX3GhQfaGdN4XoQtW2HHiP9TFpNOn1Dig', 'width': 3264}], 'place_id': 'ChIJA3kY6m8UkFQR-CIE8erfUqs', 'plus_code': {'compound_code': 'MMGM+4H Seattle, Washington, United States', 'global_code': '84VVMMGM+4H'}, 'price_level': 3, 'rating': 4.1, 'reference': 'ChIJA3kY6m8UkFQR-CIE8erfUqs', 'scope': 'GOOGLE', 'types': ['grocery_or_supermarket', 'supermarket', 'food', 'health', 'point_of_interest', 'store', 'establishment'], 'user_ratings_total': 529, 'vicinity': '1026 Northeast 64th Street, Seattle'}, {'geometry': {'location': {'lat': 47.7080656, 'lng': -122.3226005}, 'viewport': {'northeast': {'lat': 47.7096561802915, 'lng': -122.3214252697085}, 'southwest': {'lat': 47.7069582197085, 'lng': -122.3241232302915}}}, 'icon': 'https://maps.gstatic.com/mapfiles/place_api/icons/generic_business-71.png', 'id': '9f07d18ce452df51aed1a1afc1fc90612ce19745', 'name': '24 Hour Fitness', 'opening_hours': {'open_now': True}, 'photos': [{'height': 3456, 'html_attributions': ['<a href=\"https://maps.google.com/maps/contrib/110007639522159562151/photos\">24 Hour Fitness</a>'], 'photo_reference': 'CmRaAAAAjSsrgvnO-O-ur5CD3XNKRHmGsyglaiAl763a7NGiAAN_dTs1WHqtleacu8FyePNk5u5GxlNKtkXe2qPHyUo8ZL00lQE0ShcuW7HRKtX1YHkeFjw2CjIEUFlgXnFviy5pEhBVk5n-54xblES_8Rakqjj5GhRDX_k9jI3tfRZ5HRDunqawYkH8ow', 'width': 5184}], 'place_id': 'ChIJh1rcAlcRkFQRaxrDXowfukU', 'plus_code': {'compound_code': 'PM5G+6X Seattle, Washington, United States', 'global_code': '84VVPM5G+6X'}, 'rating': 3.4, 'reference': 'ChIJh1rcAlcRkFQRaxrDXowfukU', 'scope': 'GOOGLE', 'types': ['gym', 'health', 'point_of_interest', 'establishment'], 'user_ratings_total': 348, 'vicinity': '507 Northeast Northgate Way, Seattle'}, {'geometry': {'location': {'lat': 47.6994187, 'lng': -122.3324115}, 'viewport': {'northeast': {'lat': 47.70395164999999, 'lng': -122.3290834}, 'southwest': {'lat': 47.69325144999999, 'lng': -122.3369782}}}, 'icon': 'https://maps.gstatic.com/mapfiles/place_api/icons/school-71.png', 'id': '06b0435f8101a3d2813686fb0ee4488e9541ff21', 'name': 'North Seattle College', 'photos': [{'height': 1836, 'html_attributions': ['<a href=\"https://maps.google.com/maps/contrib/109307916780136912335/photos\">Reece Beau</a>'], 'photo_reference': 'CmRaAAAAPsWpY2QoSxA6lxDb59Scfmu2gA2sv9cKzaZLZRwz_hfAw15MjJzl9mW--IPnPrPi55mCXVmV-1OqFTBPz4Yt1_CewoGaXUZ2pfipEhHPYKonQWCH5RlDgfLy1ZQK9OEIEhBEicV3jKuS9jnyknL86dTEGhSC6awlei3iEeS0J2QTEg6yY6D-eA', 'width': 3264}], 'place_id': 'ChIJnfzSdAEUkFQRtgIZQ1lYWe8', 'plus_code': {'compound_code': 'MMX9+Q2 Seattle, Washington, United States', 'global_code': '84VVMMX9+Q2'}, 'rating': 3.8, 'reference': 'ChIJnfzSdAEUkFQRtgIZQ1lYWe8', 'scope': 'GOOGLE', 'types': ['university', 'point_of_interest', 'establishment'], 'user_ratings_total': 110, 'vicinity': '9600 College Way North, Seattle'}, {'geometry': {'location': {'lat': 47.614866, 'lng': -122.1977098}, 'viewport': {'northeast': {'lat': 47.61612873029149, 'lng': -122.1965972697085}, 'southwest': {'lat': 47.6134307697085, 'lng': -122.1992952302915}}}, 'icon': 'https://maps.gstatic.com/mapfiles/place_api/icons/generic_business-71.png', 'id': '5a48edc40e3081dc774cf8bd70e290a7add8e5e7', 'name': 'LA Fitness', 'opening_hours': {'open_now': True}, 'photos': [{'height': 3036, 'html_attributions': ['<a href=\"https://maps.google.com/maps/contrib/116727237605675763821/photos\">Sam I</a>'], 'photo_reference': 'CmRaAAAA8GejaDkz3lnQaKqsat7SxdS9UCUvxygN6Z4SGhK0LgiHA7A16BZ5lXw_F_6Tacqb1WAEnZy37kjs48vmCqiK9h4WIvxzpEPaSAQIvMBOkcwJBLXwzC6qQFrPyWNLE3IdEhBcoUTskvFAUZ-g7F3miVhzGhS0zESrtAIce1V8hdleMhQFz9OhsQ', 'width': 4048}], 'place_id': 'ChIJz7LpiohskFQRnLoMDW_u99g', 'plus_code': {'compound_code': 'JR72+WW Bellevue, Washington, United States', 'global_code': '84VVJR72+WW'}, 'rating': 3.1, 'reference': 'ChIJz7LpiohskFQRnLoMDW_u99g', 'scope': 'GOOGLE', 'types': ['gym', 'spa', 'health', 'point_of_interest', 'establishment'], 'user_ratings_total': 226, 'vicinity': '550 106th Avenue Northeast Ste 215, Bellevue'}, {'geometry': {'location': {'lat': 47.7599764, 'lng': -122.177968}, 'viewport': {'northeast': {'lat': 47.76137343029149, 'lng': -122.1759883197085}, 'southwest': {'lat': 47.7586754697085, 'lng': -122.1786862802915}}}, 'icon': 'https://maps.gstatic.com/mapfiles/place_api/icons/shopping-71.png', 'id': '17f2e42c199aba416a30ce75c1269c8dba730949', 'name': 'The Home Depot', 'opening_hours': {'open_now': True}, 'photos': [{'height': 3024, 'html_attributions': ['<a href=\"https://maps.google.com/maps/contrib/106147316764498333608/photos\">Thomas Kuo</a>'], 'photo_reference': 'CmRaAAAAtVrpTqtTxHmBit8fOOXCNutXFAO0OPcLfVY1BnNldfBPuxvg4aQHmx9XevHPuEc6dZcNtR0Z9hRuTobDx-OGZEv5j5BX78zShlkWddaljvQiYpySzBtJ3r2M4EQCs3FDEhAGiBrKf9jLWdrO7gX8gBRcGhR227Urphphe-Aw1vTnvcRpOCRq_Q', 'width': 4032}], 'place_id': 'ChIJHU85OX0OkFQRpw8S996rC6I', 'plus_code': {'compound_code': 'QR5C+XR Bothell, Washington, United States', 'global_code': '84VVQR5C+XR'}, 'price_level': 1, 'rating': 3.9, 'reference': 'ChIJHU85OX0OkFQRpw8S996rC6I', 'scope': 'GOOGLE', 'types': ['hardware_store', 'home_goods_store', 'point_of_interest', 'store', 'establishment'], 'user_ratings_total': 851, 'vicinity': '18333 120th Avenue Northeast, Bothell'}, {'geometry': {'location': {'lat': 47.7075666, 'lng': -122.2936138}, 'viewport': {'northeast': {'lat': 47.7092292, 'lng': -122.29190135}, 'southwest': {'lat': 47.7059248, 'lng': -122.29758315}}}, 'icon': 'https://maps.gstatic.com/mapfiles/place_api/icons/school-71.png', 'id': 'fff726dffcfb915cab734274114aece0040afd1f', 'name': 'Nathan Hale High School', 'photos': [{'height': 277, 'html_attributions': ['<a href=\"https://maps.google.com/maps/contrib/106569556278976805343/photos\">Nathan Hale High School</a>'], 'photo_reference': 'CmRaAAAA5ZjrdKN__VWO6FVVj2Q0juvaHI8QB9ZiN-Etb7qQGi2TQreWAy73QWtALPwIEiQ9hEQOkkQSWMBd3F36ul2TFjjf1YDngb7E49dQuiPeD88eHtIbbUziMlnOj974bGv7EhDxWG4cwZTTIhV_jQJ1DqhmGhQX8m33SB7XXzdzf1xSWcfzW_IfNQ', 'width': 493}], 'place_id': 'ChIJFSf83t0TkFQRzij1lpAlYiY', 'plus_code': {'compound_code': 'PP54+2H Seattle, Washington, United States', 'global_code': '84VVPP54+2H'}, 'rating': 4.2, 'reference': 'ChIJFSf83t0TkFQRzij1lpAlYiY', 'scope': 'GOOGLE', 'types': ['school', 'point_of_interest', 'establishment'], 'user_ratings_total': 39, 'vicinity': '10750 30th Avenue Northeast, Seattle'}, {'geometry': {'location': {'lat': 47.66268549999999, 'lng': -122.3177437}, 'viewport': {'northeast': {'lat': 47.6639758802915, 'lng': -122.3162321197085}, 'southwest': {'lat': 47.6612779197085, 'lng': -122.3189300802915}}}, 'icon': 'https://maps.gstatic.com/mapfiles/place_api/icons/shopping-71.png', 'id': 'd8e70fb20c71c7bee086cbaf86402f2cc4359f4b', 'name': \"Trader Joe's\", 'opening_hours': {'open_now': True}, 'photos': [{'height': 512, 'html_attributions': ['<a href=\"https://maps.google.com/maps/contrib/111771991389525851380/photos\">Trader Joe&#39;s</a>'], 'photo_reference': 'CmRaAAAAXptAsaFlH2PSy7u9DFxak1oEK-JqP_-yagfUnnD5_cWvs6VlxkzpJbk74SLmbwIlVrbXPIgCwOvRnnzs9_ddW9JiE7RtnsV6JBWlHr0jrX6n5f0_T7xUDvfm-KEfrHM5EhDvQ0wzpwiLMbMLUsm-n0RcGhS9vibJT96HIR3iVX9RbiVlC_iM3A', 'width': 768}], 'place_id': 'ChIJq6Rq_l8UkFQRyDDI__HHS40', 'plus_code': {'compound_code': 'MM7J+3W Seattle, Washington, United States', 'global_code': '84VVMM7J+3W'}, 'price_level': 2, 'rating': 4.5, 'reference': 'ChIJq6Rq_l8UkFQRyDDI__HHS40', 'scope': 'GOOGLE', 'types': ['grocery_or_supermarket', 'florist', 'supermarket', 'liquor_store', 'food', 'health', 'point_of_interest', 'store', 'establishment'], 'user_ratings_total': 1316, 'vicinity': '4555 Roosevelt Way Northeast, Seattle'}, {'geometry': {'location': {'lat': 47.6979707, 'lng': -122.3451321}, 'viewport': {'northeast': {'lat': 47.6993215802915, 'lng': -122.3435154697085}, 'southwest': {'lat': 47.6966236197085, 'lng': -122.3462134302915}}}, 'icon': 'https://maps.gstatic.com/mapfiles/place_api/icons/lodging-71.png', 'id': '145a7333c76c4f88edc0a1242e83499bc8bee84b', 'name': 'Crown Inn Motel', 'photos': [{'height': 3024, 'html_attributions': ['<a href=\"https://maps.google.com/maps/contrib/110913686887081368784/photos\">Robert McClure</a>'], 'photo_reference': 'CmRaAAAAZFA2adj0z_o5NncGfsMtfqS8Kw_cMVCR7IV0gbzHrttQvfOoK2yvmpYSiN9IeGwJw1PxypVxP_8Nfkypwn1o2BixzyljbIYW8BIuVvFV-i3eJS5_0U5tbI_YfHXgC7OKEhAUa-N_vf314kEjArId9t_lGhTg9B1tQiCQvDALn5KVm8Uqzoc-0Q', 'width': 4032}], 'place_id': 'ChIJUco_8KcWkFQRc2JTtxO6Kbk', 'plus_code': {'compound_code': 'MMX3+5W Seattle, Washington, United States', 'global_code': '84VVMMX3+5W'}, 'rating': 3.3, 'reference': 'ChIJUco_8KcWkFQRc2JTtxO6Kbk', 'scope': 'GOOGLE', 'types': ['lodging', 'point_of_interest', 'establishment'], 'user_ratings_total': 166, 'vicinity': '9501 Aurora Avenue North, Seattle'}, {'geometry': {'location': {'lat': 47.66119010000001, 'lng': -122.3140371}, 'viewport': {'northeast': {'lat': 47.6625863302915, 'lng': -122.3126877197085}, 'southwest': {'lat': 47.6598883697085, 'lng': -122.3153856802915}}}, 'icon': 'https://maps.gstatic.com/mapfiles/place_api/icons/generic_business-71.png', 'id': '72d70bd5366ecc6a2f63ddd2f2a4961157fea30e', 'name': 'Neptune Theatre', 'photos': [{'height': 2268, 'html_attributions': ['<a href=\"https://maps.google.com/maps/contrib/117339592266161353792/photos\">Justice McCartney</a>'], 'photo_reference': 'CmRaAAAALwM3-u8gI3-KZ1JnNoZk2ebFCAZZ5BblJnk4Gt-ExReUNIL9NmkaiUbEt7Kau3ObxySLgn-zAN5sWTCRCy3JExFlczTZBO_ysgOFUIxHPK3RtCAcIMS-vpajSkc-bUIPEhC4upobB1KQJfTJjvVAjbofGhTqtkRmqYdsyAL2RSuH6j7_e1ppHg', 'width': 4032}], 'place_id': 'ChIJ1UulXfUUkFQRK5Li7pZkyK8', 'plus_code': {'compound_code': 'MM6P+F9 Seattle, Washington, United States', 'global_code': '84VVMM6P+F9'}, 'rating': 4.6, 'reference': 'ChIJ1UulXfUUkFQRK5Li7pZkyK8', 'scope': 'GOOGLE', 'types': ['point_of_interest', 'establishment'], 'user_ratings_total': 1645, 'vicinity': '1303 Northeast 45th Street, Seattle'}, {'geometry': {'location': {'lat': 47.6643917, 'lng': -122.1127773}, 'viewport': {'northeast': {'lat': 47.6657394302915, 'lng': -122.1116494697085}, 'southwest': {'lat': 47.6630414697085, 'lng': -122.1143474302915}}}, 'icon': 'https://maps.gstatic.com/mapfiles/place_api/icons/generic_recreational-71.png', 'id': '28d3b67202cfb71a7cc7c3f4740813e6f3ad9643', 'name': 'Marymoor Park', 'photos': [{'height': 3264, 'html_attributions': ['<a href=\"https://maps.google.com/maps/contrib/101202558878274496467/photos\">Sergiy Zuban</a>'], 'photo_reference': 'CmRaAAAApO8LrK2yepYaDdeAmwZQn4voBVaVV_0G0n39lcKaXKvHorz2b0im7ngcBD8T7oQ4JSM8hhiYgOvSr8t18HB7e6tyUHbLo9G6AXEY5Owa96gRSUak_6qFFhCOJ382PX0rEhCX7Db4MWXQL2QMWyxKwOEQGhRr568yDh4yRWaeOpFzgz1Kq6TgSg', 'width': 4928}], 'place_id': 'ChIJ0fWNvq9ykFQRHWk-yNgbKgo', 'plus_code': {'compound_code': 'MV7P+QV Redmond, Washington, United States', 'global_code': '84VVMV7P+QV'}, 'rating': 4.7, 'reference': 'ChIJ0fWNvq9ykFQRHWk-yNgbKgo', 'scope': 'GOOGLE', 'types': ['park', 'point_of_interest', 'establishment'], 'user_ratings_total': 1873, 'vicinity': '6046 West Lake Sammamish Parkway Northeast, Redmond'}, {'geometry': {'location': {'lat': 47.6154503, 'lng': -122.2036554}, 'viewport': {'northeast': {'lat': 47.6167621802915, 'lng': -122.2023630197085}, 'southwest': {'lat': 47.6140642197085, 'lng': -122.2050609802915}}}, 'icon': 'https://maps.gstatic.com/mapfiles/place_api/icons/shopping-71.png', 'id': '9f7c1a02a8e70c6c7463cbce5650233c2b1083c9', 'name': 'Swarovski Bellevue Square', 'opening_hours': {'open_now': True}, 'photos': [{'height': 3024, 'html_attributions': ['<a href=\"https://maps.google.com/maps/contrib/107820715175475275028/photos\">Andrei Margea</a>'], 'photo_reference': 'CmRaAAAACKtksQikvTyez41_blGSmAAjMhJSTQL4uMRSjbbvlprRt1nKJ5mtjUFL1XnKj85VKvm4hcsrtlDXh5klXCil6EwuW7Ujfg0H8QgetSJlX2oEsU9WcOeZVCC3E3MjyrDeEhDxKwObrh81HTC0cOjuunhcGhRc7ZkcyTWOuEfsz1FAT-fC4392AQ', 'width': 4032}], 'place_id': 'ChIJZQAAcIZskFQRUHRydtzSYMU', 'plus_code': {'compound_code': 'JQ8W+5G Bellevue, Washington, United States', 'global_code': '84VVJQ8W+5G'}, 'price_level': 4, 'rating': 4.7, 'reference': 'ChIJZQAAcIZskFQRUHRydtzSYMU', 'scope': 'GOOGLE', 'types': ['jewelry_store', 'point_of_interest', 'store', 'establishment'], 'user_ratings_total': 12, 'vicinity': '136 Bellevue Way Southeast, Bellevue'}, {'geometry': {'location': {'lat': 47.6169811, 'lng': -122.2040214}, 'viewport': {'northeast': {'lat': 47.61803664999999, 'lng': -122.2017512}, 'southwest': {'lat': 47.61409964999999, 'lng': -122.2066704}}}, 'icon': 'https://maps.gstatic.com/mapfiles/place_api/icons/shopping-71.png', 'id': 'a5c1f7eb061703c4e77377f245e8ffb344b1bfd6', 'name': 'Nordstrom Bellevue Square', 'opening_hours': {'open_now': True}, 'photos': [{'height': 3024, 'html_attributions': ['<a href=\"https://maps.google.com/maps/contrib/117180274815448734118/photos\">Scott Cronk</a>'], 'photo_reference': 'CmRaAAAAZA2zy8vpsK6tfOhFQY8VCe4RtDo5K8IJ7ACJ_APnZZEpAIRvD0rvVJjZDskOiMLSNVGH5_QN-SB6HlF7ltravU9wQV1klXx0gQjvGKZ6dHgt4ZZxxlcHU-SRMmO_Y2jhEhDsnKwTMeMQW3qcx2y1DSf0GhQB_T9VfQWBRU_yxMEM-tMiFijbEw', 'width': 4032}], 'place_id': 'ChIJy20mlYVskFQREf6_aKJn1-I', 'plus_code': {'compound_code': 'JQ8W+Q9 Bellevue, Washington, United States', 'global_code': '84VVJQ8W+Q9'}, 'price_level': 3, 'rating': 4.4, 'reference': 'ChIJy20mlYVskFQREf6_aKJn1-I', 'scope': 'GOOGLE', 'types': ['department_store', 'shoe_store', 'point_of_interest', 'clothing_store', 'store', 'establishment'], 'user_ratings_total': 995, 'vicinity': '100 Bellevue Square, Bellevue'}, {'geometry': {'location': {'lat': 47.6511366, 'lng': -122.1453558}, 'viewport': {'northeast': {'lat': 47.6531745, 'lng': -122.143089}, 'southwest': {'lat': 47.65045730000001, 'lng': -122.1461114}}}, 'icon': 'https://maps.gstatic.com/mapfiles/place_api/icons/generic_business-71.png', 'id': '40df56c22f77f4b0185702f3817f289e41c18265', 'name': 'PRO Club', 'opening_hours': {'open_now': True}, 'photos': [{'height': 1089, 'html_attributions': ['<a href=\"https://maps.google.com/maps/contrib/115377237912544908044/photos\">PRO Club</a>'], 'photo_reference': 'CmRaAAAA6jU170vkWAy3TVmpPQj9aqyax65eHq8Du2L2CBBz-LImpv77kJ5yaeayFRxQZ6XzT2q4TwfxWGDwmC5umAq41UF7a_4s_49Itp1dqDnnOxaIzgz4qvfsdyjIqUPnCMlOEhBGM08sIaR5kzgZ_LqyhNZqGhQ1A0oUJLiiiBXcOJMeT2WOYCu6bQ', 'width': 2048}], 'place_id': 'ChIJgVErCmptkFQR7NY4Iobvssk', 'plus_code': {'compound_code': 'MV23+FV Bellevue, Washington, United States', 'global_code': '84VVMV23+FV'}, 'rating': 4.6, 'reference': 'ChIJgVErCmptkFQR7NY4Iobvssk', 'scope': 'GOOGLE', 'types': ['doctor', 'spa', 'gym', 'health', 'point_of_interest', 'establishment'], 'user_ratings_total': 902, 'vicinity': '4455 148th Avenue Northeast, Bellevue'}, {'geometry': {'location': {'lat': 47.6807215, 'lng': -122.1228944}, 'viewport': {'northeast': {'lat': 47.6820301802915, 'lng': -122.1216386697085}, 'southwest': {'lat': 47.6793322197085, 'lng': -122.1243366302915}}}, 'icon': 'https://maps.gstatic.com/mapfiles/place_api/icons/movies-71.png', 'id': '6321514d685834d68d23a5d71184956826456970', 'name': 'Regal Bella Bottega', 'opening_hours': {'open_now': True}, 'photos': [{'height': 4032, 'html_attributions': ['<a href=\"https://maps.google.com/maps/contrib/109938041264174758006/photos\">Diana Arellano</a>'], 'photo_reference': 'CmRaAAAAwdcO2bzn5BugdL9vqptGQn_m-tGkRSbOQrH2sRsKBTbZdDv18jrWG3b5k2zoyluVdHySz-g0RcQ0ZrYTI_SH4Lfmfx4vfOIH45fU6NzhE55YeHeZuF494IPPsO4k2jivEhAaJ-OdslQow7Yzo7rbhnymGhQZQremlN6y2TX_1AJSpYxGXZ4MNg', 'width': 3024}], 'place_id': 'ChIJMUWloUwNkFQRjNCZ3GVnfQU', 'plus_code': {'compound_code': 'MVJG+7R Redmond, Washington, United States', 'global_code': '84VVMVJG+7R'}, 'rating': 4.2, 'reference': 'ChIJMUWloUwNkFQRjNCZ3GVnfQU', 'scope': 'GOOGLE', 'types': ['movie_theater', 'point_of_interest', 'establishment'], 'user_ratings_total': 937, 'vicinity': '8890 161st Avenue Northeast, Redmond'}], 'status': 'OK'}\n",
      "False\n",
      "60\n"
     ]
    }
   ],
   "source": [
    "a=getNearbyplaces(47.6918452,-122.2226413,10000)"
   ]
  },
  {
   "cell_type": "code",
   "execution_count": 224,
   "metadata": {},
   "outputs": [
    {
     "data": {
      "text/plain": [
       "<Response [200]>"
      ]
     },
     "execution_count": 224,
     "metadata": {},
     "output_type": "execute_result"
    }
   ],
   "source": []
  },
  {
   "cell_type": "code",
   "execution_count": 146,
   "metadata": {},
   "outputs": [
    {
     "data": {
      "text/plain": [
       "{'name': 'The Triple Door',\n",
       " 'geometry': {'lat': 47.608704, 'lng': -122.3374196},\n",
       " 'rating': 4.5}"
      ]
     },
     "execution_count": 146,
     "metadata": {},
     "output_type": "execute_result"
    }
   ],
   "source": [
    "a[19]"
   ]
  },
  {
   "cell_type": "code",
   "execution_count": null,
   "metadata": {},
   "outputs": [],
   "source": [
    "#https://developers.google.com/places/web-service/supported_types\n",
    "#types supported by google places\n",
    "#next_page_token"
   ]
  },
  {
   "cell_type": "code",
   "execution_count": 210,
   "metadata": {},
   "outputs": [
    {
     "name": "stdout",
     "output_type": "stream",
     "text": [
      "Maison DeLille Wine Lounge {'lat': 47.6759539, 'lng': -122.2069466}\n",
      "The Melody Lynne Vineyard {'lat': 47.6756471, 'lng': -122.2061802}\n",
      "Azteca Mexican Restaurants {'lat': 47.71100409999999, 'lng': -122.1876683}\n",
      "Thumra Thai {'lat': 47.7125528, 'lng': -122.1875046}\n",
      "Lucky 7 Bar and Grill {'lat': 47.7099941, 'lng': -122.1709245}\n",
      "The Grape Choice {'lat': 47.6757578, 'lng': -122.2070561}\n",
      "Vovina {'lat': 47.675994, 'lng': -122.207168}\n",
      "Emerald Garden Chinese Restaurant & Lounge {'lat': 47.70670800000001, 'lng': -122.2097621}\n",
      "The Game Neighborhood Grill & Bar {'lat': 47.7216077, 'lng': -122.2071704}\n",
      "jb bungalow {'lat': 47.7052816, 'lng': -122.212214}\n",
      "Cock & Bull Public House {'lat': 47.7066144, 'lng': -122.2097439}\n",
      "Flatstick Pub - Kirkland {'lat': 47.67593429999999, 'lng': -122.2071522}\n",
      "Park Lane Public House {'lat': 47.6759622, 'lng': -122.206039}\n",
      "Bottle and Bull {'lat': 47.6751436, 'lng': -122.206563}\n",
      "Papi's Cantina {'lat': 47.6745871, 'lng': -122.2058805}\n",
      "Eastside Hookah Lounge {'lat': 47.7032087, 'lng': -122.174838}\n",
      "Woodmark Hotel {'lat': 47.65632429999999, 'lng': -122.2059632}\n",
      "Pickles Playland {'lat': 47.67916020000001, 'lng': -122.1701088}\n",
      "Chuck's Asian American Restaurant {'lat': 47.72840169999999, 'lng': -122.2430797}\n"
     ]
    }
   ],
   "source": [
    "url=\"https://maps.googleapis.com/maps/api/place/nearbysearch/json\"\n",
    "\n",
    "params={\n",
    "    \n",
    "    #'location':'47.6918452,-122.2226413',\n",
    "    #'radius':'5000',\n",
    "    #'type':'bar'\n",
    "    'pagetoken':'CqQCGgEAAJVtKqN_2D8dUG7koF8KD8AA2RoqaTRRtESH9EJk359BUsO0O0Dv7LCMzNVc7Q1ATutfTOfeTo9PwICP2Y-qcstscN_kFO3yNG_Rnl4mvbJcv7XGr3K4_ZuFq70cxY5s1zLRGf9fBbU4-C2vLdarm0qL3F0IHbd1O5SJ3Zm72413yskvyYbtrw_wAT7zgtOx95ELn6qdvRrR14fuADtO9tZcoTPAy6MLWDGGdaAphDUcgBvPuXJeiEjLwLtN8LFe5v36zLM3pgWHnn1fhCSQQkclWRixoRss8VjdOYNFFqwQH1Im_i_LuT_DUX9uSaSXf9eo44KHm8vh40iDVA4w2GKBGcOvTiceIpDdxriLFpSNsgi6P4E-pATrBoDPcTIxEBIQ353VhfcqSIx7NzuvvWXngRoUv0aG8qsB1EhtFzrgGShL6YKmsVw'\n",
    "    ,'key':API_KEY\n",
    "}\n",
    "res = requests.get(url, params=params)\n",
    "x = res.json() \n",
    "#print(x)\n",
    "# now x contains list of nested dictionaries \n",
    "# we know dictionary contain key value pair \n",
    "# store the value of result key in variable y \n",
    "y = x['results'] \n",
    "# keep looping upto lenght of y \n",
    "for i in range(len(y)): \n",
    "\n",
    "# Print value corresponding to the \n",
    "# 'name' key at the ith index of y \n",
    "    print(y[i]['name'],y[i]['geometry']['location'])\n",
    "\n"
   ]
  },
  {
   "cell_type": "code",
   "execution_count": 188,
   "metadata": {},
   "outputs": [
    {
     "data": {
      "text/plain": [
       "{'html_attributions': [], 'results': [], 'status': 'INVALID_REQUEST'}"
      ]
     },
     "execution_count": 188,
     "metadata": {},
     "output_type": "execute_result"
    }
   ],
   "source": [
    "x"
   ]
  },
  {
   "cell_type": "code",
   "execution_count": null,
   "metadata": {},
   "outputs": [],
   "source": []
  },
  {
   "cell_type": "code",
   "execution_count": 60,
   "metadata": {},
   "outputs": [
    {
     "data": {
      "text/plain": [
       "True"
      ]
     },
     "execution_count": 60,
     "metadata": {},
     "output_type": "execute_result"
    }
   ],
   "source": []
  },
  {
   "cell_type": "code",
   "execution_count": null,
   "metadata": {},
   "outputs": [],
   "source": []
  },
  {
   "cell_type": "code",
   "execution_count": null,
   "metadata": {},
   "outputs": [],
   "source": []
  },
  {
   "cell_type": "code",
   "execution_count": null,
   "metadata": {},
   "outputs": [],
   "source": []
  },
  {
   "cell_type": "code",
   "execution_count": null,
   "metadata": {},
   "outputs": [],
   "source": []
  },
  {
   "cell_type": "markdown",
   "metadata": {},
   "source": [
    "## Meetup api"
   ]
  },
  {
   "cell_type": "code",
   "execution_count": 91,
   "metadata": {},
   "outputs": [],
   "source": [
    "urlBase='https://api.meetup.com'"
   ]
  },
  {
   "cell_type": "code",
   "execution_count": 92,
   "metadata": {},
   "outputs": [],
   "source": [
    "urlFindEvent='/find/upcoming_events'"
   ]
  },
  {
   "cell_type": "code",
   "execution_count": 96,
   "metadata": {},
   "outputs": [],
   "source": [
    "params={\n",
    "    'lat':'47.6918452',\n",
    "    'lon':'-122.2226413'\n",
    "}"
   ]
  },
  {
   "cell_type": "code",
   "execution_count": 100,
   "metadata": {},
   "outputs": [
    {
     "data": {
      "text/plain": [
       "{'errors': [{'code': 'authentication_error',\n",
       "   'message': 'Authenticated member required'}]}"
      ]
     },
     "execution_count": 100,
     "metadata": {},
     "output_type": "execute_result"
    }
   ],
   "source": [
    "res = requests.get('urlBase+urlFindEvent, params=params')\n",
    "res.json()"
   ]
  },
  {
   "cell_type": "code",
   "execution_count": 71,
   "metadata": {},
   "outputs": [],
   "source": []
  },
  {
   "cell_type": "code",
   "execution_count": 68,
   "metadata": {},
   "outputs": [],
   "source": []
  },
  {
   "cell_type": "code",
   "execution_count": null,
   "metadata": {},
   "outputs": [],
   "source": []
  },
  {
   "cell_type": "code",
   "execution_count": 29,
   "metadata": {},
   "outputs": [
    {
     "name": "stdout",
     "output_type": "stream",
     "text": [
      "Search query: Bar\n",
      "Restaurante La Braña\n",
      "Casa Mariano\n",
      "Bodega La Andaluza\n",
      "Bar Oliva\n",
      "José's Bar\n",
      "bar bonsai\n",
      "Fanáticos del sabor bar restaurante\n",
      "Bar Susi. La Esquina de las Raciones\n",
      "Bar RUBÍ\n",
      "AROMAS PERUANOS BAR RESTAURANTE\n",
      "Vermut De Grifo Cafe-Bar Muinelo\n",
      "Bar El Rincon De Bbto\n",
      "D'Guille Bar\n",
      "Bar las Cubas\n",
      "Bar cafeteria El Jamonal\n",
      "A Tope Bar\n",
      "Bar Chipiron\n",
      "Bar restaurante Los Kali 2 S.l.\n",
      "Bar Marbi\n",
      "Bar Carrion\n"
     ]
    }
   ],
   "source": [
    "# Python program to get a set of \n",
    "# places according to your search \n",
    "# query using Google Places API \n",
    "\n",
    "# importing required modules \n",
    "import requests, json \n",
    "\n",
    "# enter your api key here \n",
    "api_key = API_KEY\n",
    "\n",
    "# url variable store url \n",
    "url = \"https://maps.googleapis.com/maps/api/place/textsearch/json?\"\n",
    "\n",
    "# The text string on which to search \n",
    "query = input('Search query: ') \n",
    "\n",
    "# get method of requests module \n",
    "# return response object \n",
    "r = requests.get(url + 'query=' + query +\n",
    "\t\t\t\t\t\t'&key=' + api_key) \n",
    "\n",
    "# json method of response object convert \n",
    "# json format data into python format data \n",
    "x = r.json() \n",
    "\n",
    "# now x contains list of nested dictionaries \n",
    "# we know dictionary contain key value pair \n",
    "# store the value of result key in variable y \n",
    "y = x['results'] \n",
    "\n",
    "# keep looping upto lenght of y \n",
    "for i in range(len(y)): \n",
    "\t\n",
    "\t# Print value corresponding to the \n",
    "\t# 'name' key at the ith index of y \n",
    "\tprint(y[i]['name']) \n"
   ]
  },
  {
   "cell_type": "code",
   "execution_count": 114,
   "metadata": {},
   "outputs": [
    {
     "data": {
      "text/plain": [
       "{'error_message': 'You have exceeded your daily request quota for this API. If you did not set a custom daily request quota, verify your project has an active billing account: http://g.co/dev/maps-no-account',\n",
       " 'html_attributions': [],\n",
       " 'results': [],\n",
       " 'status': 'OVER_QUERY_LIMIT'}"
      ]
     },
     "execution_count": 114,
     "metadata": {},
     "output_type": "execute_result"
    }
   ],
   "source": []
  },
  {
   "cell_type": "code",
   "execution_count": null,
   "metadata": {},
   "outputs": [],
   "source": []
  },
  {
   "cell_type": "code",
   "execution_count": null,
   "metadata": {},
   "outputs": [],
   "source": []
  },
  {
   "cell_type": "code",
   "execution_count": null,
   "metadata": {},
   "outputs": [],
   "source": []
  },
  {
   "cell_type": "code",
   "execution_count": null,
   "metadata": {},
   "outputs": [],
   "source": []
  },
  {
   "cell_type": "code",
   "execution_count": null,
   "metadata": {},
   "outputs": [],
   "source": []
  },
  {
   "cell_type": "code",
   "execution_count": null,
   "metadata": {},
   "outputs": [],
   "source": []
  },
  {
   "cell_type": "code",
   "execution_count": null,
   "metadata": {},
   "outputs": [],
   "source": []
  },
  {
   "cell_type": "code",
   "execution_count": null,
   "metadata": {},
   "outputs": [],
   "source": []
  },
  {
   "cell_type": "code",
   "execution_count": null,
   "metadata": {},
   "outputs": [],
   "source": []
  },
  {
   "cell_type": "code",
   "execution_count": null,
   "metadata": {},
   "outputs": [],
   "source": []
  },
  {
   "cell_type": "code",
   "execution_count": 46,
   "metadata": {},
   "outputs": [
    {
     "ename": "SyntaxError",
     "evalue": "invalid syntax (<ipython-input-46-3263d53210f2>, line 1)",
     "output_type": "error",
     "traceback": [
      "\u001b[0;36m  File \u001b[0;32m\"<ipython-input-46-3263d53210f2>\"\u001b[0;36m, line \u001b[0;32m1\u001b[0m\n\u001b[0;31m    https://maps.googleapis.com/maps/api/place/findplacefromtext/output?parameters\u001b[0m\n\u001b[0m           ^\u001b[0m\n\u001b[0;31mSyntaxError\u001b[0m\u001b[0;31m:\u001b[0m invalid syntax\n"
     ]
    }
   ],
   "source": []
  },
  {
   "cell_type": "code",
   "execution_count": null,
   "metadata": {},
   "outputs": [],
   "source": []
  },
  {
   "cell_type": "code",
   "execution_count": null,
   "metadata": {},
   "outputs": [],
   "source": []
  },
  {
   "cell_type": "code",
   "execution_count": null,
   "metadata": {},
   "outputs": [],
   "source": []
  }
 ],
 "metadata": {
  "kernelspec": {
   "display_name": "Python 3",
   "language": "python",
   "name": "python3"
  },
  "language_info": {
   "codemirror_mode": {
    "name": "ipython",
    "version": 3
   },
   "file_extension": ".py",
   "mimetype": "text/x-python",
   "name": "python",
   "nbconvert_exporter": "python",
   "pygments_lexer": "ipython3",
   "version": "3.7.4"
  }
 },
 "nbformat": 4,
 "nbformat_minor": 2
}
