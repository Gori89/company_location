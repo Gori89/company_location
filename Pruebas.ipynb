{
 "cells": [
  {
   "cell_type": "code",
   "execution_count": 101,
   "metadata": {},
   "outputs": [],
   "source": [
    "from pymongo import MongoClient\n",
    "import pandas as pd\n"
   ]
  },
  {
   "cell_type": "code",
   "execution_count": 102,
   "metadata": {},
   "outputs": [],
   "source": [
    "import tools.mongo as mongo"
   ]
  },
  {
   "cell_type": "code",
   "execution_count": 103,
   "metadata": {},
   "outputs": [],
   "source": [
    "df_companies=mongo.getCompanies(mongo.localConection())"
   ]
  },
  {
   "cell_type": "code",
   "execution_count": 104,
   "metadata": {},
   "outputs": [],
   "source": [
    "#df_companies.head()\n"
   ]
  },
  {
   "cell_type": "code",
   "execution_count": 105,
   "metadata": {},
   "outputs": [
    {
     "data": {
      "text/plain": [
       "929"
      ]
     },
     "execution_count": 105,
     "metadata": {},
     "output_type": "execute_result"
    }
   ],
   "source": [
    "sum(df_companies.deadpooled_year.value_counts().values)"
   ]
  },
  {
   "cell_type": "code",
   "execution_count": 106,
   "metadata": {},
   "outputs": [],
   "source": [
    "#df_companies[df_companies.deadpooled_year.isnull()]"
   ]
  },
  {
   "cell_type": "code",
   "execution_count": null,
   "metadata": {},
   "outputs": [],
   "source": []
  },
  {
   "cell_type": "markdown",
   "metadata": {},
   "source": [
    "## Api google places"
   ]
  },
  {
   "cell_type": "code",
   "execution_count": 2,
   "metadata": {},
   "outputs": [],
   "source": [
    "import src.tools.google as google\n"
   ]
  },
  {
   "cell_type": "code",
   "execution_count": 5,
   "metadata": {},
   "outputs": [],
   "source": [
    "a=google.getNearbyplaces(47.6918452,-122.2226413,10000,\"bar\")"
   ]
  },
  {
   "cell_type": "code",
   "execution_count": 6,
   "metadata": {},
   "outputs": [
    {
     "data": {
      "text/plain": [
       "[{'name': 'Daniel’s Broiler’s',\n",
       "  'geometry': {'lat': 47.6183336, 'lng': -122.2005129},\n",
       "  'rating': 4.4},\n",
       " {'name': 'Olive Garden Italian Restaurant',\n",
       "  'geometry': {'lat': 47.71089800000001, 'lng': -122.189689},\n",
       "  'rating': 4},\n",
       " {'name': 'Seastar Restaurant & Raw Bar',\n",
       "  'geometry': {'lat': 47.61231339999999, 'lng': -122.196456},\n",
       "  'rating': 4.4},\n",
       " {'name': \"Maggiano's Little Italy\",\n",
       "  'geometry': {'lat': 47.6171883, 'lng': -122.2007779},\n",
       "  'rating': 4.3},\n",
       " {'name': 'RAM',\n",
       "  'geometry': {'lat': 47.6641394, 'lng': -122.2977855},\n",
       "  'rating': 4},\n",
       " {'name': 'The Matador',\n",
       "  'geometry': {'lat': 47.6732155, 'lng': -122.1229857},\n",
       "  'rating': 4.2},\n",
       " {'name': 'Little Red Hen',\n",
       "  'geometry': {'lat': 47.68021049999999, 'lng': -122.3248088},\n",
       "  'rating': 4.4},\n",
       " {'name': 'Lucky Strike Bellevue',\n",
       "  'geometry': {'lat': 47.6167986, 'lng': -122.2008382},\n",
       "  'rating': 4.1},\n",
       " {'name': 'Wilde Rover',\n",
       "  'geometry': {'lat': 47.676191, 'lng': -122.207757},\n",
       "  'rating': 4.2},\n",
       " {'name': 'John Howie Steak',\n",
       "  'geometry': {'lat': 47.6167847, 'lng': -122.191192},\n",
       "  'rating': 4.5},\n",
       " {'name': 'Purple Cafe and Wine Bar',\n",
       "  'geometry': {'lat': 47.614002, 'lng': -122.198685},\n",
       "  'rating': 4.3},\n",
       " {'name': 'Third Place Books Ravenna',\n",
       "  'geometry': {'lat': 47.6759851, 'lng': -122.3063299},\n",
       "  'rating': 4.7},\n",
       " {'name': 'Kenmore Lanes',\n",
       "  'geometry': {'lat': 47.7577496, 'lng': -122.2376577},\n",
       "  'rating': 4.2},\n",
       " {'name': 'Chutneys',\n",
       "  'geometry': {'lat': 47.6184779, 'lng': -122.1934593},\n",
       "  'rating': 3.7},\n",
       " {'name': 'Big Time Brewery & Alehouse',\n",
       "  'geometry': {'lat': 47.657851, 'lng': -122.313492},\n",
       "  'rating': 4.2},\n",
       " {'name': 'BeachHouse bar + grill',\n",
       "  'geometry': {'lat': 47.6616858, 'lng': -122.2070894},\n",
       "  'rating': 4.3},\n",
       " {'name': 'Latona Pub',\n",
       "  'geometry': {'lat': 47.6757956, 'lng': -122.3255799},\n",
       "  'rating': 4.4},\n",
       " {'name': 'Mamma Melina Ristorante & Pizzeria',\n",
       "  'geometry': {'lat': 47.6664181, 'lng': -122.3008103},\n",
       "  'rating': 4.4},\n",
       " {'name': 'Elliott Bay Public House & Brewery',\n",
       "  'geometry': {'lat': 47.720375, 'lng': -122.29507},\n",
       "  'rating': 4.4},\n",
       " {'name': 'Purple Cafe and Wine Bar',\n",
       "  'geometry': {'lat': 47.73160189999999, 'lng': -122.1420795},\n",
       "  'rating': 4.3},\n",
       " {'name': 'Earls Kitchen + Bar',\n",
       "  'geometry': {'lat': 47.61633889999999, 'lng': -122.2012574},\n",
       "  'rating': 4.1},\n",
       " {'name': 'Cactus Kirkland',\n",
       "  'geometry': {'lat': 47.6760135, 'lng': -122.2058025},\n",
       "  'rating': 4.4},\n",
       " {'name': 'Eastlake Bar & Grill',\n",
       "  'geometry': {'lat': 47.6485618, 'lng': -122.3238728},\n",
       "  'rating': 4.1},\n",
       " {'name': 'Columbia Winery',\n",
       "  'geometry': {'lat': 47.7338738, 'lng': -122.1519866},\n",
       "  'rating': 4.5},\n",
       " {'name': 'Lunchbox Lab',\n",
       "  'geometry': {'lat': 47.680474, 'lng': -122.3256954},\n",
       "  'rating': 4},\n",
       " {'name': 'The Keg Steakhouse + Bar - Kirkland',\n",
       "  'geometry': {'lat': 47.645872, 'lng': -122.200448},\n",
       "  'rating': 3.4},\n",
       " {'name': 'JOEY Bellevue',\n",
       "  'geometry': {'lat': 47.61771599999999, 'lng': -122.201263},\n",
       "  'rating': 4.1},\n",
       " {'name': \"Shultzy's Bar & Grill\",\n",
       "  'geometry': {'lat': 47.65728799999999, 'lng': -122.3129689},\n",
       "  'rating': 4.3},\n",
       " {'name': \"Hector's Restaurant\",\n",
       "  'geometry': {'lat': 47.6750933, 'lng': -122.2062192},\n",
       "  'rating': 4},\n",
       " {'name': 'Wing Dome',\n",
       "  'geometry': {'lat': 47.6773021, 'lng': -122.204771},\n",
       "  'rating': 4.2},\n",
       " {'name': \"Kate's Pub\",\n",
       "  'geometry': {'lat': 47.66108969999999, 'lng': -122.3246109},\n",
       "  'rating': 4.6},\n",
       " {'name': 'Elysian Tangletown',\n",
       "  'geometry': {'lat': 47.66883199999999, 'lng': -122.333519},\n",
       "  'rating': 4.1},\n",
       " {'name': 'Casino Caribbean',\n",
       "  'geometry': {'lat': 47.732055, 'lng': -122.1731744},\n",
       "  'rating': 3.7},\n",
       " {'name': 'Pearl Seafood & Oyster Bar',\n",
       "  'geometry': {'lat': 47.6168366, 'lng': -122.2011076},\n",
       "  'rating': 4.3},\n",
       " {'name': \"Jonah's Restaurant & Lounge\",\n",
       "  'geometry': {'lat': 47.60870329999999, 'lng': -122.1894},\n",
       "  'rating': 3.1},\n",
       " {'name': 'Burgundian Bistro',\n",
       "  'geometry': {'lat': 47.668896, 'lng': -122.331399},\n",
       "  'rating': 4.2},\n",
       " {'name': 'The Melting Pot',\n",
       "  'geometry': {'lat': 47.6125888, 'lng': -122.195977},\n",
       "  'rating': 4.1},\n",
       " {'name': 'Cafe Trophy / Trophy Cupcakes',\n",
       "  'geometry': {'lat': 47.6160512, 'lng': -122.1932593},\n",
       "  'rating': 4.3},\n",
       " {'name': \"JaK's Grill\",\n",
       "  'geometry': {'lat': 47.6610627, 'lng': -122.2880246},\n",
       "  'rating': 4.5},\n",
       " {'name': 'Lunchbox Lab',\n",
       "  'geometry': {'lat': 47.6190936, 'lng': -122.191295},\n",
       "  'rating': 4.1},\n",
       " {'name': 'Snappy Dragon',\n",
       "  'geometry': {'lat': 47.6936117, 'lng': -122.3178737},\n",
       "  'rating': 4.4},\n",
       " {'name': 'Cedars in University District',\n",
       "  'geometry': {'lat': 47.6647414, 'lng': -122.3144924},\n",
       "  'rating': 4.3},\n",
       " {'name': 'Bis on Main',\n",
       "  'geometry': {'lat': 47.61005000000001, 'lng': -122.203833},\n",
       "  'rating': 4.5},\n",
       " {'name': 'Pen | Thai Restaurant',\n",
       "  'geometry': {'lat': 47.7599059, 'lng': -122.2050262},\n",
       "  'rating': 4.2},\n",
       " {'name': 'Cactus Madison Park',\n",
       "  'geometry': {'lat': 47.636188, 'lng': -122.2777463},\n",
       "  'rating': 4.5},\n",
       " {'name': 'Blue Moon Tavern',\n",
       "  'geometry': {'lat': 47.66147360000001, 'lng': -122.3200224},\n",
       "  'rating': 4.3},\n",
       " {'name': \"McCormick & Schmick's\",\n",
       "  'geometry': {'lat': 47.61696089999999, 'lng': -122.2013286},\n",
       "  'rating': 3.8},\n",
       " {'name': 'Big Fish Grill',\n",
       "  'geometry': {'lat': 47.6438524, 'lng': -122.2005782},\n",
       "  'rating': 4.1},\n",
       " {'name': 'Sea Monster Lounge',\n",
       "  'geometry': {'lat': 47.6615064, 'lng': -122.3323427},\n",
       "  'rating': 4.6},\n",
       " {'name': \"Anthony's HomePort Kirkland\",\n",
       "  'geometry': {'lat': 47.6741774, 'lng': -122.206305},\n",
       "  'rating': 4.3},\n",
       " {'name': 'The Commons',\n",
       "  'geometry': {'lat': 47.7323725, 'lng': -122.1420763},\n",
       "  'rating': 4.2},\n",
       " {'name': 'Cafe Racer',\n",
       "  'geometry': {'lat': 47.67146599999999, 'lng': -122.317143},\n",
       "  'rating': 4.6},\n",
       " {'name': \"BJ's Restaurant & Brewhouse\",\n",
       "  'geometry': {'lat': 47.66879000000001, 'lng': -122.1198887},\n",
       "  'rating': 3.9},\n",
       " {'name': 'The Pumphouse Bar & Grill',\n",
       "  'geometry': {'lat': 47.6177813, 'lng': -122.1830529},\n",
       "  'rating': 4.4},\n",
       " {'name': 'Finn MacCool’s Irish Public House',\n",
       "  'geometry': {'lat': 47.658867, 'lng': -122.31339},\n",
       "  'rating': 4.1},\n",
       " {'name': 'CANVAS! Paint and Sip - Kirkland',\n",
       "  'geometry': {'lat': 47.6769546, 'lng': -122.2062064},\n",
       "  'rating': 4.6},\n",
       " {'name': 'Pomegranate Bistro',\n",
       "  'geometry': {'lat': 47.666413, 'lng': -122.099558},\n",
       "  'rating': 4.4},\n",
       " {'name': 'Bai Tong Restaurant',\n",
       "  'geometry': {'lat': 47.63183799999999, 'lng': -122.141725},\n",
       "  'rating': 4.4},\n",
       " {'name': \"JJ Mahoney's Irish Pub\",\n",
       "  'geometry': {'lat': 47.6818896, 'lng': -122.123376},\n",
       "  'rating': 4.2},\n",
       " {'name': \"Stanford's Restaurant & Bar\",\n",
       "  'geometry': {'lat': 47.70834379999999, 'lng': -122.3281858},\n",
       "  'rating': 4.1}]"
      ]
     },
     "execution_count": 6,
     "metadata": {},
     "output_type": "execute_result"
    }
   ],
   "source": [
    "a\n"
   ]
  },
  {
   "cell_type": "code",
   "execution_count": null,
   "metadata": {},
   "outputs": [],
   "source": []
  },
  {
   "cell_type": "code",
   "execution_count": null,
   "metadata": {},
   "outputs": [],
   "source": []
  },
  {
   "cell_type": "code",
   "execution_count": null,
   "metadata": {},
   "outputs": [],
   "source": []
  },
  {
   "cell_type": "code",
   "execution_count": null,
   "metadata": {},
   "outputs": [],
   "source": []
  },
  {
   "cell_type": "code",
   "execution_count": null,
   "metadata": {},
   "outputs": [],
   "source": []
  },
  {
   "cell_type": "code",
   "execution_count": 146,
   "metadata": {},
   "outputs": [
    {
     "data": {
      "text/plain": [
       "{'name': 'The Triple Door',\n",
       " 'geometry': {'lat': 47.608704, 'lng': -122.3374196},\n",
       " 'rating': 4.5}"
      ]
     },
     "execution_count": 146,
     "metadata": {},
     "output_type": "execute_result"
    }
   ],
   "source": []
  },
  {
   "cell_type": "code",
   "execution_count": null,
   "metadata": {},
   "outputs": [],
   "source": [
    "#https://developers.google.com/places/web-service/supported_types\n",
    "#types supported by google places\n",
    "#next_page_token"
   ]
  },
  {
   "cell_type": "code",
   "execution_count": null,
   "metadata": {},
   "outputs": [],
   "source": []
  },
  {
   "cell_type": "code",
   "execution_count": null,
   "metadata": {},
   "outputs": [],
   "source": []
  },
  {
   "cell_type": "code",
   "execution_count": null,
   "metadata": {},
   "outputs": [],
   "source": []
  },
  {
   "cell_type": "code",
   "execution_count": null,
   "metadata": {},
   "outputs": [],
   "source": []
  },
  {
   "cell_type": "code",
   "execution_count": null,
   "metadata": {},
   "outputs": [],
   "source": []
  },
  {
   "cell_type": "code",
   "execution_count": null,
   "metadata": {},
   "outputs": [],
   "source": []
  },
  {
   "cell_type": "code",
   "execution_count": null,
   "metadata": {},
   "outputs": [],
   "source": []
  },
  {
   "cell_type": "code",
   "execution_count": null,
   "metadata": {},
   "outputs": [],
   "source": []
  },
  {
   "cell_type": "markdown",
   "metadata": {},
   "source": [
    "## Meetup api"
   ]
  },
  {
   "cell_type": "code",
   "execution_count": 91,
   "metadata": {},
   "outputs": [],
   "source": [
    "urlBase='https://api.meetup.com'"
   ]
  },
  {
   "cell_type": "code",
   "execution_count": 92,
   "metadata": {},
   "outputs": [],
   "source": [
    "urlFindEvent='/find/upcoming_events'"
   ]
  },
  {
   "cell_type": "code",
   "execution_count": 96,
   "metadata": {},
   "outputs": [],
   "source": [
    "params={\n",
    "    'lat':'47.6918452',\n",
    "    'lon':'-122.2226413'\n",
    "}"
   ]
  },
  {
   "cell_type": "code",
   "execution_count": 100,
   "metadata": {},
   "outputs": [
    {
     "data": {
      "text/plain": [
       "{'errors': [{'code': 'authentication_error',\n",
       "   'message': 'Authenticated member required'}]}"
      ]
     },
     "execution_count": 100,
     "metadata": {},
     "output_type": "execute_result"
    }
   ],
   "source": [
    "res = requests.get('urlBase+urlFindEvent, params=params')\n",
    "res.json()"
   ]
  },
  {
   "cell_type": "code",
   "execution_count": 71,
   "metadata": {},
   "outputs": [],
   "source": []
  },
  {
   "cell_type": "code",
   "execution_count": 68,
   "metadata": {},
   "outputs": [],
   "source": []
  },
  {
   "cell_type": "code",
   "execution_count": null,
   "metadata": {},
   "outputs": [],
   "source": []
  },
  {
   "cell_type": "code",
   "execution_count": 29,
   "metadata": {},
   "outputs": [
    {
     "name": "stdout",
     "output_type": "stream",
     "text": [
      "Search query: Bar\n",
      "Restaurante La Braña\n",
      "Casa Mariano\n",
      "Bodega La Andaluza\n",
      "Bar Oliva\n",
      "José's Bar\n",
      "bar bonsai\n",
      "Fanáticos del sabor bar restaurante\n",
      "Bar Susi. La Esquina de las Raciones\n",
      "Bar RUBÍ\n",
      "AROMAS PERUANOS BAR RESTAURANTE\n",
      "Vermut De Grifo Cafe-Bar Muinelo\n",
      "Bar El Rincon De Bbto\n",
      "D'Guille Bar\n",
      "Bar las Cubas\n",
      "Bar cafeteria El Jamonal\n",
      "A Tope Bar\n",
      "Bar Chipiron\n",
      "Bar restaurante Los Kali 2 S.l.\n",
      "Bar Marbi\n",
      "Bar Carrion\n"
     ]
    }
   ],
   "source": [
    "# Python program to get a set of \n",
    "# places according to your search \n",
    "# query using Google Places API \n",
    "\n",
    "# importing required modules \n",
    "import requests, json \n",
    "\n",
    "# enter your api key here \n",
    "api_key = API_KEY\n",
    "\n",
    "# url variable store url \n",
    "url = \"https://maps.googleapis.com/maps/api/place/textsearch/json?\"\n",
    "\n",
    "# The text string on which to search \n",
    "query = input('Search query: ') \n",
    "\n",
    "# get method of requests module \n",
    "# return response object \n",
    "r = requests.get(url + 'query=' + query +\n",
    "\t\t\t\t\t\t'&key=' + api_key) \n",
    "\n",
    "# json method of response object convert \n",
    "# json format data into python format data \n",
    "x = r.json() \n",
    "\n",
    "# now x contains list of nested dictionaries \n",
    "# we know dictionary contain key value pair \n",
    "# store the value of result key in variable y \n",
    "y = x['results'] \n",
    "\n",
    "# keep looping upto lenght of y \n",
    "for i in range(len(y)): \n",
    "\t\n",
    "\t# Print value corresponding to the \n",
    "\t# 'name' key at the ith index of y \n",
    "\tprint(y[i]['name']) \n"
   ]
  },
  {
   "cell_type": "code",
   "execution_count": 114,
   "metadata": {},
   "outputs": [
    {
     "data": {
      "text/plain": [
       "{'error_message': 'You have exceeded your daily request quota for this API. If you did not set a custom daily request quota, verify your project has an active billing account: http://g.co/dev/maps-no-account',\n",
       " 'html_attributions': [],\n",
       " 'results': [],\n",
       " 'status': 'OVER_QUERY_LIMIT'}"
      ]
     },
     "execution_count": 114,
     "metadata": {},
     "output_type": "execute_result"
    }
   ],
   "source": []
  },
  {
   "cell_type": "code",
   "execution_count": null,
   "metadata": {},
   "outputs": [],
   "source": []
  },
  {
   "cell_type": "code",
   "execution_count": null,
   "metadata": {},
   "outputs": [],
   "source": []
  },
  {
   "cell_type": "code",
   "execution_count": 16,
   "metadata": {},
   "outputs": [
    {
     "data": {
      "text/plain": [
       "'https://maps.googleapis.com/maps/api/place/nearbysearch/json'"
      ]
     },
     "execution_count": 16,
     "metadata": {},
     "output_type": "execute_result"
    }
   ],
   "source": []
  },
  {
   "cell_type": "code",
   "execution_count": 8,
   "metadata": {},
   "outputs": [
    {
     "ename": "ModuleNotFoundError",
     "evalue": "No module named 'src.constants'",
     "output_type": "error",
     "traceback": [
      "\u001b[0;31m---------------------------------------------------------------------------\u001b[0m",
      "\u001b[0;31mModuleNotFoundError\u001b[0m                       Traceback (most recent call last)",
      "\u001b[0;32m<ipython-input-8-fc6273f25b48>\u001b[0m in \u001b[0;36m<module>\u001b[0;34m\u001b[0m\n\u001b[0;32m----> 1\u001b[0;31m \u001b[0;32mimport\u001b[0m \u001b[0msrc\u001b[0m\u001b[0;34m.\u001b[0m\u001b[0mconstants\u001b[0m\u001b[0;34m\u001b[0m\u001b[0;34m\u001b[0m\u001b[0m\n\u001b[0m",
      "\u001b[0;31mModuleNotFoundError\u001b[0m: No module named 'src.constants'"
     ]
    }
   ],
   "source": [
    "import src.constants"
   ]
  },
  {
   "cell_type": "code",
   "execution_count": null,
   "metadata": {},
   "outputs": [],
   "source": []
  },
  {
   "cell_type": "code",
   "execution_count": null,
   "metadata": {},
   "outputs": [],
   "source": []
  },
  {
   "cell_type": "code",
   "execution_count": null,
   "metadata": {},
   "outputs": [],
   "source": []
  },
  {
   "cell_type": "code",
   "execution_count": null,
   "metadata": {},
   "outputs": [],
   "source": []
  },
  {
   "cell_type": "code",
   "execution_count": null,
   "metadata": {},
   "outputs": [],
   "source": []
  },
  {
   "cell_type": "code",
   "execution_count": null,
   "metadata": {},
   "outputs": [],
   "source": []
  },
  {
   "cell_type": "code",
   "execution_count": 46,
   "metadata": {},
   "outputs": [
    {
     "ename": "SyntaxError",
     "evalue": "invalid syntax (<ipython-input-46-3263d53210f2>, line 1)",
     "output_type": "error",
     "traceback": [
      "\u001b[0;36m  File \u001b[0;32m\"<ipython-input-46-3263d53210f2>\"\u001b[0;36m, line \u001b[0;32m1\u001b[0m\n\u001b[0;31m    https://maps.googleapis.com/maps/api/place/findplacefromtext/output?parameters\u001b[0m\n\u001b[0m           ^\u001b[0m\n\u001b[0;31mSyntaxError\u001b[0m\u001b[0;31m:\u001b[0m invalid syntax\n"
     ]
    }
   ],
   "source": []
  },
  {
   "cell_type": "code",
   "execution_count": null,
   "metadata": {},
   "outputs": [],
   "source": []
  },
  {
   "cell_type": "code",
   "execution_count": null,
   "metadata": {},
   "outputs": [],
   "source": []
  },
  {
   "cell_type": "code",
   "execution_count": null,
   "metadata": {},
   "outputs": [],
   "source": []
  }
 ],
 "metadata": {
  "kernelspec": {
   "display_name": "Python 3",
   "language": "python",
   "name": "python3"
  },
  "language_info": {
   "codemirror_mode": {
    "name": "ipython",
    "version": 3
   },
   "file_extension": ".py",
   "mimetype": "text/x-python",
   "name": "python",
   "nbconvert_exporter": "python",
   "pygments_lexer": "ipython3",
   "version": "3.7.4"
  }
 },
 "nbformat": 4,
 "nbformat_minor": 2
}
