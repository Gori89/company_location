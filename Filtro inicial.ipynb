{
 "cells": [
  {
   "cell_type": "markdown",
   "metadata": {},
   "source": [
    "# Filtrado inicial de compañias"
   ]
  },
  {
   "cell_type": "code",
   "execution_count": 1,
   "metadata": {},
   "outputs": [],
   "source": [
    "from pymongo import MongoClient\n",
    "import pandas as pd\n",
    "import src.tools.mongo as mongo"
   ]
  },
  {
   "cell_type": "code",
   "execution_count": 2,
   "metadata": {},
   "outputs": [
    {
     "data": {
      "text/plain": [
       "(18801, 42)"
      ]
     },
     "execution_count": 2,
     "metadata": {},
     "output_type": "execute_result"
    }
   ],
   "source": [
    "df_companies=mongo.getCompanies(mongo.localConection())\n",
    "df_companies.shape"
   ]
  },
  {
   "cell_type": "code",
   "execution_count": 3,
   "metadata": {},
   "outputs": [
    {
     "data": {
      "text/plain": [
       "Index(['_id', 'name', 'permalink', 'crunchbase_url', 'homepage_url',\n",
       "       'blog_url', 'blog_feed_url', 'twitter_username', 'category_code',\n",
       "       'number_of_employees', 'founded_year', 'deadpooled_year', 'tag_list',\n",
       "       'alias_list', 'email_address', 'phone_number', 'description',\n",
       "       'created_at', 'updated_at', 'overview', 'image', 'products',\n",
       "       'relationships', 'competitions', 'providerships', 'total_money_raised',\n",
       "       'funding_rounds', 'investments', 'acquisition', 'acquisitions',\n",
       "       'offices', 'milestones', 'video_embeds', 'screenshots',\n",
       "       'external_links', 'partners', 'founded_month', 'founded_day',\n",
       "       'deadpooled_month', 'deadpooled_day', 'deadpooled_url', 'ipo'],\n",
       "      dtype='object')"
      ]
     },
     "execution_count": 3,
     "metadata": {},
     "output_type": "execute_result"
    }
   ],
   "source": [
    "df_companies.columns"
   ]
  },
  {
   "cell_type": "markdown",
   "metadata": {},
   "source": [
    "### Eliminación de empresas que hayan cerrado hace varios años."
   ]
  },
  {
   "cell_type": "code",
   "execution_count": 4,
   "metadata": {},
   "outputs": [
    {
     "name": "stdout",
     "output_type": "stream",
     "text": [
      "La empresa que mas recientemente ha cerrado es en el año:\n"
     ]
    },
    {
     "data": {
      "text/plain": [
       "2014.0"
      ]
     },
     "execution_count": 4,
     "metadata": {},
     "output_type": "execute_result"
    }
   ],
   "source": [
    "print(\"La empresa que mas recientemente ha cerrado es en el año:\")\n",
    "df_companies[\"deadpooled_year\"].value_counts().index.max()"
   ]
  },
  {
   "cell_type": "markdown",
   "metadata": {},
   "source": [
    "Elimino todas las empresas que han cerrado ya que fue hace muchos años y no puedo obtener trabajadores de ellas."
   ]
  },
  {
   "cell_type": "code",
   "execution_count": 5,
   "metadata": {},
   "outputs": [
    {
     "data": {
      "text/plain": [
       "(17872, 42)"
      ]
     },
     "execution_count": 5,
     "metadata": {},
     "output_type": "execute_result"
    }
   ],
   "source": [
    "df_companies=df_companies[df_companies.deadpooled_year.isnull()]\n",
    "df_companies.shape"
   ]
  },
  {
   "cell_type": "code",
   "execution_count": null,
   "metadata": {},
   "outputs": [],
   "source": []
  },
  {
   "cell_type": "code",
   "execution_count": null,
   "metadata": {},
   "outputs": [],
   "source": []
  },
  {
   "cell_type": "code",
   "execution_count": null,
   "metadata": {},
   "outputs": [],
   "source": []
  },
  {
   "cell_type": "markdown",
   "metadata": {},
   "source": [
    "## Eliminar compañias que no se dedican a campos relacionados"
   ]
  },
  {
   "cell_type": "code",
   "execution_count": 6,
   "metadata": {},
   "outputs": [],
   "source": [
    "category=[\"web\",\"software\",\"games_video\",\"network_hosting\",\"hardware\",\"analytics\",\"music\",\n",
    "          \"cleantech\",\"photo_video\",\"design\"]\n",
    "#df_companies[\"category_code\"].value_counts()"
   ]
  },
  {
   "cell_type": "code",
   "execution_count": 7,
   "metadata": {},
   "outputs": [
    {
     "data": {
      "text/plain": [
       "(8412, 42)"
      ]
     },
     "execution_count": 7,
     "metadata": {},
     "output_type": "execute_result"
    }
   ],
   "source": [
    "df_companies=df_companies[df_companies.category_code.isin(category)]\n",
    "df_companies.shape"
   ]
  },
  {
   "cell_type": "markdown",
   "metadata": {},
   "source": [
    "# Filtrar con un query de mongo"
   ]
  },
  {
   "cell_type": "code",
   "execution_count": null,
   "metadata": {},
   "outputs": [],
   "source": []
  },
  {
   "cell_type": "code",
   "execution_count": null,
   "metadata": {},
   "outputs": [],
   "source": []
  },
  {
   "cell_type": "code",
   "execution_count": null,
   "metadata": {},
   "outputs": [],
   "source": []
  },
  {
   "cell_type": "code",
   "execution_count": null,
   "metadata": {},
   "outputs": [],
   "source": []
  },
  {
   "cell_type": "code",
   "execution_count": null,
   "metadata": {},
   "outputs": [],
   "source": []
  },
  {
   "cell_type": "code",
   "execution_count": 8,
   "metadata": {},
   "outputs": [
    {
     "name": "stdout",
     "output_type": "stream",
     "text": [
      "Maximo:  18\n",
      "Minimo:  0\n",
      "Media:  0.9576795054683785\n"
     ]
    },
    {
     "data": {
      "text/plain": [
       "1     6054\n",
       "0     1638\n",
       "2      461\n",
       "3      133\n",
       "4       65\n",
       "5       25\n",
       "6       16\n",
       "7        6\n",
       "8        5\n",
       "9        3\n",
       "13       2\n",
       "18       2\n",
       "15       1\n",
       "14       1\n",
       "Name: offices, dtype: int64"
      ]
     },
     "execution_count": 8,
     "metadata": {},
     "output_type": "execute_result"
    }
   ],
   "source": [
    "a=df_companies.offices.apply(lambda x: len(x))\n",
    "print(\"Maximo: \",max(a))\n",
    "print(\"Minimo: \",min(a))\n",
    "print(\"Media: \" ,a.mean())\n",
    "a.value_counts()"
   ]
  },
  {
   "cell_type": "code",
   "execution_count": 24,
   "metadata": {},
   "outputs": [],
   "source": [
    "def office(row):\n",
    "    return row.offices\n",
    "\n",
    "#df_companies.applymap(office)\n",
    "offices=[]\n",
    "city=[]\n",
    "for i in range(len(df_companies)):\n",
    "    offices.append([df_companies.offices.iloc[i],df_companies._id.iloc[i]])\n",
    "        "
   ]
  },
  {
   "cell_type": "code",
   "execution_count": 34,
   "metadata": {},
   "outputs": [],
   "source": [
    "office_list=[]\n",
    "for office in offices:\n",
    "    a=pd.io.json.json_normalize(office[0])\n",
    "    a[\"_id\"]=office[1]\n",
    "    office_list.append(a)\n"
   ]
  },
  {
   "cell_type": "code",
   "execution_count": 200,
   "metadata": {},
   "outputs": [
    {
     "data": {
      "text/html": [
       "<div>\n",
       "<style scoped>\n",
       "    .dataframe tbody tr th:only-of-type {\n",
       "        vertical-align: middle;\n",
       "    }\n",
       "\n",
       "    .dataframe tbody tr th {\n",
       "        vertical-align: top;\n",
       "    }\n",
       "\n",
       "    .dataframe thead th {\n",
       "        text-align: right;\n",
       "    }\n",
       "</style>\n",
       "<table border=\"1\" class=\"dataframe\">\n",
       "  <thead>\n",
       "    <tr style=\"text-align: right;\">\n",
       "      <th></th>\n",
       "      <th>_id</th>\n",
       "      <th>address1</th>\n",
       "      <th>address2</th>\n",
       "      <th>city</th>\n",
       "      <th>country_code</th>\n",
       "      <th>description</th>\n",
       "      <th>latitude</th>\n",
       "      <th>longitude</th>\n",
       "      <th>state_code</th>\n",
       "      <th>zip_code</th>\n",
       "    </tr>\n",
       "  </thead>\n",
       "  <tbody>\n",
       "    <tr>\n",
       "      <th>0</th>\n",
       "      <td>52cdef7c4bab8bd675297d90</td>\n",
       "      <td>959 Skyway Road, Suite 200</td>\n",
       "      <td>None</td>\n",
       "      <td>San Carlos</td>\n",
       "      <td>USA</td>\n",
       "      <td>None</td>\n",
       "      <td>37.5069</td>\n",
       "      <td>-122.248</td>\n",
       "      <td>CA</td>\n",
       "      <td>94070</td>\n",
       "    </tr>\n",
       "    <tr>\n",
       "      <th>0</th>\n",
       "      <td>52cdef7c4bab8bd675297d92</td>\n",
       "      <td>8536 National Blvd, Suite A</td>\n",
       "      <td>None</td>\n",
       "      <td>Culver City</td>\n",
       "      <td>USA</td>\n",
       "      <td>None</td>\n",
       "      <td>34.026</td>\n",
       "      <td>-118.38</td>\n",
       "      <td>CA</td>\n",
       "      <td>90232</td>\n",
       "    </tr>\n",
       "    <tr>\n",
       "      <th>0</th>\n",
       "      <td>52cdef7c4bab8bd675297d91</td>\n",
       "      <td>9229 W. Sunset Blvd.</td>\n",
       "      <td></td>\n",
       "      <td>West Hollywood</td>\n",
       "      <td>USA</td>\n",
       "      <td>Headquarters</td>\n",
       "      <td>34.0904</td>\n",
       "      <td>-118.393</td>\n",
       "      <td>CA</td>\n",
       "      <td>90069</td>\n",
       "    </tr>\n",
       "    <tr>\n",
       "      <th>0</th>\n",
       "      <td>52cdef7c4bab8bd675297d93</td>\n",
       "      <td>407 N Maple Dr</td>\n",
       "      <td></td>\n",
       "      <td>Beverly Hills</td>\n",
       "      <td>USA</td>\n",
       "      <td></td>\n",
       "      <td>34.0762</td>\n",
       "      <td>-118.394</td>\n",
       "      <td>CA</td>\n",
       "      <td>90210</td>\n",
       "    </tr>\n",
       "    <tr>\n",
       "      <th>0</th>\n",
       "      <td>52cdef7c4bab8bd675297d96</td>\n",
       "      <td>None</td>\n",
       "      <td>None</td>\n",
       "      <td>Menlo Park</td>\n",
       "      <td>USA</td>\n",
       "      <td>None</td>\n",
       "      <td>37.4841</td>\n",
       "      <td>-122.169</td>\n",
       "      <td>CA</td>\n",
       "      <td>None</td>\n",
       "    </tr>\n",
       "  </tbody>\n",
       "</table>\n",
       "</div>"
      ],
      "text/plain": [
       "                        _id                     address1 address2  \\\n",
       "0  52cdef7c4bab8bd675297d90   959 Skyway Road, Suite 200     None   \n",
       "0  52cdef7c4bab8bd675297d92  8536 National Blvd, Suite A     None   \n",
       "0  52cdef7c4bab8bd675297d91         9229 W. Sunset Blvd.            \n",
       "0  52cdef7c4bab8bd675297d93               407 N Maple Dr            \n",
       "0  52cdef7c4bab8bd675297d96                         None     None   \n",
       "\n",
       "             city country_code   description latitude longitude state_code  \\\n",
       "0      San Carlos          USA          None  37.5069  -122.248         CA   \n",
       "0     Culver City          USA          None   34.026   -118.38         CA   \n",
       "0  West Hollywood          USA  Headquarters  34.0904  -118.393         CA   \n",
       "0   Beverly Hills          USA                34.0762  -118.394         CA   \n",
       "0      Menlo Park          USA          None  37.4841  -122.169         CA   \n",
       "\n",
       "  zip_code  \n",
       "0    94070  \n",
       "0    90232  \n",
       "0    90069  \n",
       "0    90210  \n",
       "0     None  "
      ]
     },
     "execution_count": 200,
     "metadata": {},
     "output_type": "execute_result"
    }
   ],
   "source": [
    "df_office=pd.concat(office_list,sort=True)\n",
    "df_office.head()"
   ]
  },
  {
   "cell_type": "code",
   "execution_count": 211,
   "metadata": {},
   "outputs": [],
   "source": [
    "#Elimino filas con valores nulos en la latitud o la longitud\n",
    "df_office=df_office.dropna(subset=['latitude', 'longitude'])"
   ]
  },
  {
   "cell_type": "code",
   "execution_count": 212,
   "metadata": {},
   "outputs": [],
   "source": [
    "#Elimino duplicados\n",
    "df_office[\"city_clean\"]=df_office.city.apply(lambda x: str(x).replace(\" City\",\"\"))"
   ]
  },
  {
   "cell_type": "code",
   "execution_count": 213,
   "metadata": {},
   "outputs": [],
   "source": [
    "df_office=df_office.drop(\"city\",axis=1)\n",
    "df_office=df_office.rename(columns={\"city_clean\":\"city\"})"
   ]
  },
  {
   "cell_type": "code",
   "execution_count": 219,
   "metadata": {},
   "outputs": [],
   "source": [
    "from geopy.geocoders import Nominatim\n",
    "import time\n",
    "def getCityFromCoord(coord):\n",
    "    geolocator = Nominatim(user_agent=\"companyLocation\")\n",
    "    time.sleep(1.5)\n",
    "    try:\n",
    "        return geolocator.geocode(coord)[0].split(\",\")[1].strip()\n",
    "    except:\n",
    "        print(coord)\n"
   ]
  },
  {
   "cell_type": "code",
   "execution_count": 221,
   "metadata": {},
   "outputs": [
    {
     "data": {
      "text/plain": [
       "'San Carlos'"
      ]
     },
     "execution_count": 221,
     "metadata": {},
     "output_type": "execute_result"
    }
   ],
   "source": [
    "from geopy.geocoders import Nominatim\n",
    "geolocator = Nominatim(user_agent=\"SharkAttack\")\n",
    "location = geolocator.geocode(\"37.5069,-122.248\")\n",
    "location[0].split(\",\")[1].strip()"
   ]
  },
  {
   "cell_type": "code",
   "execution_count": 222,
   "metadata": {},
   "outputs": [],
   "source": [
    "for i in range(len(df_office)):\n",
    "    if df_office.iloc[i].city==\"\" or df_office.iloc[i].city==\"None\":\n",
    "        df_office.iloc[i].city=getCityFromCoord(str(df_office.iloc[i].latitude)+\",\"+str(df_office.iloc[i].longitude))"
   ]
  },
  {
   "cell_type": "code",
   "execution_count": 223,
   "metadata": {},
   "outputs": [
    {
     "data": {
      "text/plain": [
       "(5403, 10)"
      ]
     },
     "execution_count": 223,
     "metadata": {},
     "output_type": "execute_result"
    }
   ],
   "source": [
    "df_office.shape"
   ]
  },
  {
   "cell_type": "code",
   "execution_count": 224,
   "metadata": {},
   "outputs": [],
   "source": [
    "companies2=df_companies.merge(df_office, on=\"_id\")"
   ]
  },
  {
   "cell_type": "code",
   "execution_count": 225,
   "metadata": {},
   "outputs": [],
   "source": [
    "category1=[\"web\",\"software\",\"games_video\",\"design\"]\n"
   ]
  },
  {
   "cell_type": "code",
   "execution_count": 232,
   "metadata": {},
   "outputs": [
    {
     "data": {
      "text/plain": [
       "12"
      ]
     },
     "execution_count": 232,
     "metadata": {},
     "output_type": "execute_result"
    }
   ],
   "source": [
    "cities=companies2[companies2.category_code.isin(category1)].city.value_counts()\n",
    "\n",
    "Goodcities=cities[cities.values>=50]\n",
    "Goodcities=list(Goodcities.index)\n",
    "len(Goodcities)"
   ]
  },
  {
   "cell_type": "code",
   "execution_count": 231,
   "metadata": {},
   "outputs": [
    {
     "data": {
      "text/plain": [
       "(1469, 51)"
      ]
     },
     "execution_count": 231,
     "metadata": {},
     "output_type": "execute_result"
    }
   ],
   "source": [
    "companies2=companies2[companies2.city.isin(Goodcities)]\n",
    "companies2.shape"
   ]
  },
  {
   "cell_type": "code",
   "execution_count": null,
   "metadata": {},
   "outputs": [],
   "source": []
  },
  {
   "cell_type": "code",
   "execution_count": null,
   "metadata": {},
   "outputs": [],
   "source": []
  },
  {
   "cell_type": "code",
   "execution_count": null,
   "metadata": {},
   "outputs": [],
   "source": []
  }
 ],
 "metadata": {
  "kernelspec": {
   "display_name": "Python 3",
   "language": "python",
   "name": "python3"
  },
  "language_info": {
   "codemirror_mode": {
    "name": "ipython",
    "version": 3
   },
   "file_extension": ".py",
   "mimetype": "text/x-python",
   "name": "python",
   "nbconvert_exporter": "python",
   "pygments_lexer": "ipython3",
   "version": "3.7.4"
  }
 },
 "nbformat": 4,
 "nbformat_minor": 2
}
